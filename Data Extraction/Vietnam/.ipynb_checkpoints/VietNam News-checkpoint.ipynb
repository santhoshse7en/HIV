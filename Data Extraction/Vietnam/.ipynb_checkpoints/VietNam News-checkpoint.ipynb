{
 "cells": [
  {
   "cell_type": "markdown",
   "metadata": {},
   "source": [
    "## HIV News articles extraction from VietNam News. Data Extraction of following parameters\n",
    "- Headline\n",
    "- Description\n",
    "- Author\n",
    "- Published Date\n",
    "- Category\n",
    "- Publication\n",
    "- News\n",
    "- URL\n",
    "- Keywords\n",
    "- Summary\n",
    "\n",
    "### Importing the necessary Libraries"
   ]
  },
  {
   "cell_type": "code",
   "execution_count": 1,
   "metadata": {},
   "outputs": [],
   "source": [
    "from selenium.webdriver.chrome.options import Options # enables options in web browser\n",
    "from selenium import webdriver # web-based automation tool for Python\n",
    "from newspaper import Article # Article scraping & curation\n",
    "from bs4 import BeautifulSoup # Python library for pulling data out of HTML and XML files\n",
    "from requests import get # standard for making HTTP requests in Python\n",
    "import pandas as pd # library written for data manipulation and analysis\n",
    "import sys, time #  System-specific parameters and functions\n",
    "from dateutil import parser # date formet handling"
   ]
  },
  {
   "cell_type": "markdown",
   "metadata": {},
   "source": [
    "### Creating Empty lists for HIV News Articles parameters data to be extracted"
   ]
  },
  {
   "cell_type": "code",
   "execution_count": 2,
   "metadata": {},
   "outputs": [],
   "source": [
    "headlines, descriptions, dates, authors, news, keywords, summaries, urls, category, publication = [], [], [], [], [], [], [], [], [], []"
   ]
  },
  {
   "cell_type": "markdown",
   "metadata": {},
   "source": [
    "### Finding the total no.of.pages by total no.of articles from google search results¶"
   ]
  },
  {
   "cell_type": "code",
   "execution_count": 3,
   "metadata": {},
   "outputs": [],
   "source": [
    "keyword = 'HIV site:vietnamnews.vn'\n",
    "\n",
    "url = 'https://www.google.com/search?q=' + '+'.join(keyword.split())\n",
    "\n",
    "soup = BeautifulSoup(get(url).text, 'lxml')\n",
    "try:\n",
    "    # Extracts the digits if it the resulted number without comma ','. eg: About 680 results (0.23 seconds)\n",
    "    max_pages = round([int(s) for s in soup.select_one('div#resultStats').text.split() if s.isdigit()][0]/10)\n",
    "    max_pages = max_pages + 1\n",
    "except:\n",
    "    # Extracts the digits if it the resulted number without comma ','. eg: About 1,080 results (0.23 seconds)\n",
    "    max_pages = round(int(''.join(i for i in soup.select_one('div#resultStats').text if i.isdigit()))/10)\n",
    "    max_pages = max_pages + 1"
   ]
  },
  {
   "cell_type": "markdown",
   "metadata": {},
   "source": [
    "### Iterates max_pages value through while loop. Scraping the Articles urls"
   ]
  },
  {
   "cell_type": "code",
   "execution_count": 4,
   "metadata": {},
   "outputs": [
    {
     "name": "stdout",
     "output_type": "stream",
     "text": [
      "29 : 271\r"
     ]
    }
   ],
   "source": [
    "options = Options()\n",
    "options.headless = True\n",
    "browser = webdriver.Chrome(options=options)\n",
    "browser.get(url)\n",
    "\n",
    "index = 0\n",
    "\n",
    "while True:\n",
    "    try:\n",
    "        index +=1\n",
    "        page = browser.page_source\n",
    "        soup = BeautifulSoup(page, 'lxml')\n",
    "        linky = [soup.select('.r')[i].a['href'] for i in range(len(soup.select('.r')))]\n",
    "        urls.extend(linky)\n",
    "        if index == max_pages:\n",
    "            break\n",
    "        browser.find_element_by_xpath('//*[@id=\"pnnext\"]/span[2]').click()\n",
    "        time.sleep(2)\n",
    "        sys.stdout.write('\\r' + str(index) + ' : ' + str(max_pages) + '\\r')\n",
    "        sys.stdout.flush()\n",
    "    except:\n",
    "        pass\n",
    "    \n",
    "browser.quit()"
   ]
  },
  {
   "cell_type": "markdown",
   "metadata": {},
   "source": [
    "### To remove duplicates urls entries in the list by executing below line"
   ]
  },
  {
   "cell_type": "code",
   "execution_count": 5,
   "metadata": {},
   "outputs": [
    {
     "name": "stdout",
     "output_type": "stream",
     "text": [
      "Total Extracted URL's are : 292 <class 'list'>\n"
     ]
    }
   ],
   "source": [
    "urls = list(dict.fromkeys(urls))\n",
    "print(\"Total Extracted URL's are\" + ' : ' + str(len(urls)), type(urls))"
   ]
  },
  {
   "cell_type": "markdown",
   "metadata": {},
   "source": [
    "### Iterates urls through for loop. Scraping the Articles with above parameters"
   ]
  },
  {
   "cell_type": "code",
   "execution_count": 6,
   "metadata": {},
   "outputs": [
    {
     "name": "stdout",
     "output_type": "stream",
     "text": [
      "You must `download()` an article first!75/doctors-nurses-exposed-to-hiv-in-emergency-surgery.htmliv-aids.html017-in-hcm-city.htmltmlml\n",
      "You must `download()` an article first!258/regional-experts-share-hiv-monitoring-experience.html-aids-drugs.html\n",
      "You must `download()` an article first!591/children-with-hiv-celebrate-mid-autumn-fest.html\n",
      "You must `download()` an article first!expat-corner/374148/vn-american-swaps-body-building-for-community-building.htmlovincial-youth.html\n",
      "You must `download()` an article first!862/healthcare-sector-strives-to-control-epidemic.html\n",
      "You must `download()` an article first!vaac.htmliefs-23-01-2006.htmly.htmlids-fight.htmll-in-da-nang.htmltml\n",
      "Wall time: 59min 38snews.vn/society/owners-of-the-future/188808/street-kids-overjoyed-at-free-medical-treatment.html\n"
     ]
    }
   ],
   "source": [
    "%%time\n",
    "for index, url in enumerate(urls):\n",
    "    try:\n",
    "        # Parse the url to NewsPlease\n",
    "        soup = BeautifulSoup(get(url).text, 'lxml')\n",
    "        article = Article(url)\n",
    "        article.download()\n",
    "        article.parse()\n",
    "        article.nlp()\n",
    "        \n",
    "        # Extracts the Headlines\n",
    "        try:\n",
    "            headlines.append(article.title.strip())\n",
    "        except:\n",
    "            headlines.append(None)\n",
    "            \n",
    "        # Extracts the Descriptions    \n",
    "        try:\n",
    "            descriptions.append(' '.join(article.meta_data['og']['description'].split()))\n",
    "        except:\n",
    "            descriptions.append(None)\n",
    "            \n",
    "        # Extracts the Authors\n",
    "        try:\n",
    "            authors.append(article.authors)\n",
    "        except:\n",
    "            authors.append(None)\n",
    "        \n",
    "        # Extracts the published dates\n",
    "        try:\n",
    "            dates.append(str(parser.parse(soup.select_one('.vnnews-time-post').span.text.strip())).split()[0])\n",
    "        except:\n",
    "            dates.append(None)\n",
    "            \n",
    "        # Extracts the news category\n",
    "        try:\n",
    "            category.append(soup.select_one('.cate-act').text)\n",
    "        except:\n",
    "            category.append(None)\n",
    "            \n",
    "        # Extracts the news articles\n",
    "        try:\n",
    "            news.append(' '.join(article.text.split()).replace(\"\\'\\'\",\" \").replace(\"\\'\", \"\").replace(\" / \", \"\"))\n",
    "        except:\n",
    "            news.append(None)\n",
    "            \n",
    "        # Extracts the news publication\n",
    "        try:\n",
    "            publication.append(article.meta_data['og']['site_name'])\n",
    "        except:\n",
    "            publication.append(None)\n",
    "\n",
    "        # Extracts Keywords and Summaries\n",
    "        try:\n",
    "            keywords.append(article.keywords)\n",
    "            summaries.append(' '.join(article.summary.split()))\n",
    "        except:\n",
    "            keywords.append(None)\n",
    "            summaries.append(None)\n",
    "                        \n",
    "    except:\n",
    "        headlines.append(None)\n",
    "        descriptions.append(None)\n",
    "        authors.append(None)\n",
    "        dates.append(None)\n",
    "        category.append(None)\n",
    "        publication.append(None)\n",
    "        news.append(None)\n",
    "        keywords.append(None)\n",
    "        summaries.append(None)\n",
    "\n",
    "    sys.stdout.write('\\r' + str(index) + ' : ' + str(url) + '\\r')\n",
    "    sys.stdout.flush()"
   ]
  },
  {
   "cell_type": "markdown",
   "metadata": {},
   "source": [
    "### Checking Array Length of each list to create DataFrame"
   ]
  },
  {
   "cell_type": "code",
   "execution_count": 7,
   "metadata": {},
   "outputs": [
    {
     "name": "stdout",
     "output_type": "stream",
     "text": [
      "292 292 292 292 292 292 292 292 292 292\n"
     ]
    }
   ],
   "source": [
    "print(len(headlines), len(descriptions), len(authors), len(dates), len(category), len(publication), len(news), len(keywords), len(summaries), len(urls))"
   ]
  },
  {
   "cell_type": "markdown",
   "metadata": {},
   "source": [
    "### Creating a csv file after checking array length and droping the missing values from the dataset"
   ]
  },
  {
   "cell_type": "code",
   "execution_count": 8,
   "metadata": {},
   "outputs": [
    {
     "data": {
      "text/html": [
       "<div>\n",
       "<style scoped>\n",
       "    .dataframe tbody tr th:only-of-type {\n",
       "        vertical-align: middle;\n",
       "    }\n",
       "\n",
       "    .dataframe tbody tr th {\n",
       "        vertical-align: top;\n",
       "    }\n",
       "\n",
       "    .dataframe thead th {\n",
       "        text-align: right;\n",
       "    }\n",
       "</style>\n",
       "<table border=\"1\" class=\"dataframe\">\n",
       "  <thead>\n",
       "    <tr style=\"text-align: right;\">\n",
       "      <th></th>\n",
       "      <th>Headlines</th>\n",
       "      <th>Descriptions</th>\n",
       "      <th>Authors</th>\n",
       "      <th>Published_Dates</th>\n",
       "      <th>Publication</th>\n",
       "      <th>Articles</th>\n",
       "      <th>category</th>\n",
       "      <th>Keywords</th>\n",
       "      <th>Summaries</th>\n",
       "      <th>Source_URLs</th>\n",
       "    </tr>\n",
       "  </thead>\n",
       "  <tbody>\n",
       "    <tr>\n",
       "      <th>0</th>\n",
       "      <td>Number of HIV/AIDS cases continues to fall</td>\n",
       "      <td>The number of HIV/AIDS cases in Việt Nam conti...</td>\n",
       "      <td>[]</td>\n",
       "      <td>2018-12-03</td>\n",
       "      <td>vietnamnews.vn</td>\n",
       "      <td>HCM CITY– The number of HIV/AIDS cases in Việt...</td>\n",
       "      <td>Society</td>\n",
       "      <td>[cases, number, prep, services, việt, nam, fal...</td>\n",
       "      <td>HCM CITY– The number of HIV/AIDS cases in Việt...</td>\n",
       "      <td>http://vietnamnews.vn/society/481242/number-of...</td>\n",
       "    </tr>\n",
       "    <tr>\n",
       "      <th>1</th>\n",
       "      <td>HIV increase sparks free tests</td>\n",
       "      <td>The Ministry of Health has asked the northern ...</td>\n",
       "      <td>[]</td>\n",
       "      <td>2018-08-17</td>\n",
       "      <td>vietnamnews.vn</td>\n",
       "      <td>A delegation from the health ministry visits r...</td>\n",
       "      <td>Society</td>\n",
       "      <td>[ministry, thượng, patients, hiv, hivaids, spa...</td>\n",
       "      <td>A delegation from the health ministry visits r...</td>\n",
       "      <td>http://vietnamnews.vn/society/463991/hiv-incre...</td>\n",
       "    </tr>\n",
       "    <tr>\n",
       "      <th>2</th>\n",
       "      <td>HIV testing and treatment for an AIDS-free world</td>\n",
       "      <td>The Human Immunodeficiency Virus (HIV) is spre...</td>\n",
       "      <td>[]</td>\n",
       "      <td>2018-06-25</td>\n",
       "      <td>vietnamnews.vn</td>\n",
       "      <td>By Dr Mathieu Nalpas* The Human Immunodeficien...</td>\n",
       "      <td>Life &amp; Style</td>\n",
       "      <td>[testing, medical, status, việt, living, hiv, ...</td>\n",
       "      <td>By Dr Mathieu Nalpas*The Human Immunodeficienc...</td>\n",
       "      <td>http://vietnamnews.vn/life-style/450345/hiv-te...</td>\n",
       "    </tr>\n",
       "    <tr>\n",
       "      <th>3</th>\n",
       "      <td>Localities to strengthen HIV/AIDS control and ...</td>\n",
       "      <td>The Ministry of Health has asked provinces and...</td>\n",
       "      <td>[]</td>\n",
       "      <td>2018-10-30</td>\n",
       "      <td>vietnamnews.vn</td>\n",
       "      <td>HÀ NỘI — The Ministry of Health has asked prov...</td>\n",
       "      <td>Society</td>\n",
       "      <td>[ministry, localities, strengthen, living, hiv...</td>\n",
       "      <td>HÀ NỘI — The Ministry of Health has asked prov...</td>\n",
       "      <td>http://vietnamnews.vn/society/468834/localitie...</td>\n",
       "    </tr>\n",
       "    <tr>\n",
       "      <th>4</th>\n",
       "      <td>VN has work to do in HIV prevention and treatment</td>\n",
       "      <td>About 50,000 people living with HIV in Việt Na...</td>\n",
       "      <td>[]</td>\n",
       "      <td>2018-11-17</td>\n",
       "      <td>vietnamnews.vn</td>\n",
       "      <td>HÀ NỘI — About 50,000 people living with HIV i...</td>\n",
       "      <td>Society</td>\n",
       "      <td>[patients, việt, vn, hiv, nam, living, hivaids...</td>\n",
       "      <td>HÀ NỘI — About 50,000 people living with HIV i...</td>\n",
       "      <td>http://vietnamnews.vn/society/480271/vn-has-wo...</td>\n",
       "    </tr>\n",
       "  </tbody>\n",
       "</table>\n",
       "</div>"
      ],
      "text/plain": [
       "                                           Headlines  \\\n",
       "0         Number of HIV/AIDS cases continues to fall   \n",
       "1                     HIV increase sparks free tests   \n",
       "2   HIV testing and treatment for an AIDS-free world   \n",
       "3  Localities to strengthen HIV/AIDS control and ...   \n",
       "4  VN has work to do in HIV prevention and treatment   \n",
       "\n",
       "                                        Descriptions Authors Published_Dates  \\\n",
       "0  The number of HIV/AIDS cases in Việt Nam conti...      []      2018-12-03   \n",
       "1  The Ministry of Health has asked the northern ...      []      2018-08-17   \n",
       "2  The Human Immunodeficiency Virus (HIV) is spre...      []      2018-06-25   \n",
       "3  The Ministry of Health has asked provinces and...      []      2018-10-30   \n",
       "4  About 50,000 people living with HIV in Việt Na...      []      2018-11-17   \n",
       "\n",
       "      Publication                                           Articles  \\\n",
       "0  vietnamnews.vn  HCM CITY– The number of HIV/AIDS cases in Việt...   \n",
       "1  vietnamnews.vn  A delegation from the health ministry visits r...   \n",
       "2  vietnamnews.vn  By Dr Mathieu Nalpas* The Human Immunodeficien...   \n",
       "3  vietnamnews.vn  HÀ NỘI — The Ministry of Health has asked prov...   \n",
       "4  vietnamnews.vn  HÀ NỘI — About 50,000 people living with HIV i...   \n",
       "\n",
       "       category                                           Keywords  \\\n",
       "0       Society  [cases, number, prep, services, việt, nam, fal...   \n",
       "1       Society  [ministry, thượng, patients, hiv, hivaids, spa...   \n",
       "2  Life & Style  [testing, medical, status, việt, living, hiv, ...   \n",
       "3       Society  [ministry, localities, strengthen, living, hiv...   \n",
       "4       Society  [patients, việt, vn, hiv, nam, living, hivaids...   \n",
       "\n",
       "                                           Summaries  \\\n",
       "0  HCM CITY– The number of HIV/AIDS cases in Việt...   \n",
       "1  A delegation from the health ministry visits r...   \n",
       "2  By Dr Mathieu Nalpas*The Human Immunodeficienc...   \n",
       "3  HÀ NỘI — The Ministry of Health has asked prov...   \n",
       "4  HÀ NỘI — About 50,000 people living with HIV i...   \n",
       "\n",
       "                                         Source_URLs  \n",
       "0  http://vietnamnews.vn/society/481242/number-of...  \n",
       "1  http://vietnamnews.vn/society/463991/hiv-incre...  \n",
       "2  http://vietnamnews.vn/life-style/450345/hiv-te...  \n",
       "3  http://vietnamnews.vn/society/468834/localitie...  \n",
       "4  http://vietnamnews.vn/society/480271/vn-has-wo...  "
      ]
     },
     "execution_count": 8,
     "metadata": {},
     "output_type": "execute_result"
    }
   ],
   "source": [
    "if len(headlines) == len(descriptions) == len(authors) == len(dates) == len(news) == len(publication) == len(keywords) == len(summaries) == len(urls) == len(category):\n",
    "    tbl = pd.DataFrame({'Headlines' : headlines,\n",
    "                        'Descriptions' : descriptions,\n",
    "                        'Authors' : authors,\n",
    "                        'Published_Dates' : dates,\n",
    "                        'Publication' : publication,\n",
    "                        'Articles' : news,\n",
    "                        'category' : category,\n",
    "                        'Keywords' : keywords,\n",
    "                        'Summaries' : summaries,\n",
    "                        'Source_URLs' : urls})\n",
    "    tbl.dropna()\n",
    "    path = 'D:\\\\#Backups\\\\Desktop\\\\!Code!\\\\CDRI\\\\HIV\\\\Data Extraction\\\\#Datasets\\\\'\n",
    "    tbl.to_csv(path+'VietNam News.csv', index=False)\n",
    "else:\n",
    "    print('Array lenght does not match!')\n",
    "    \n",
    "tbl.head()"
   ]
  },
  {
   "cell_type": "code",
   "execution_count": 9,
   "metadata": {},
   "outputs": [
    {
     "data": {
      "text/plain": [
       "(292, 10)"
      ]
     },
     "execution_count": 9,
     "metadata": {},
     "output_type": "execute_result"
    }
   ],
   "source": [
    "tbl.shape"
   ]
  }
 ],
 "metadata": {
  "kernelspec": {
   "display_name": "Python 3",
   "language": "python",
   "name": "python3"
  },
  "language_info": {
   "codemirror_mode": {
    "name": "ipython",
    "version": 3
   },
   "file_extension": ".py",
   "mimetype": "text/x-python",
   "name": "python",
   "nbconvert_exporter": "python",
   "pygments_lexer": "ipython3",
   "version": "3.7.3"
  }
 },
 "nbformat": 4,
 "nbformat_minor": 2
}
