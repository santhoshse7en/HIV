{
 "cells": [
  {
   "cell_type": "markdown",
   "metadata": {},
   "source": [
    "## HIV News articles extraction from The Kabul Times. Data Extraction of following parameters\n",
    "- Headline\n",
    "- Description\n",
    "- Author\n",
    "- Published Date\n",
    "- Category\n",
    "- Publication\n",
    "- News\n",
    "- URL\n",
    "- Keywords\n",
    "- Summary\n",
    "\n",
    "### Importing the necessary Libraries"
   ]
  },
  {
   "cell_type": "code",
   "execution_count": 1,
   "metadata": {},
   "outputs": [],
   "source": [
    "from newspaper import Article # Article scraping & curation\n",
    "from bs4 import BeautifulSoup # Python library for pulling data out of HTML and XML files\n",
    "from requests import get # standard for making HTTP requests in Python\n",
    "import pandas as pd # library written for data manipulation and analysis\n",
    "import sys, time #  System-specific parameters and functions"
   ]
  },
  {
   "cell_type": "markdown",
   "metadata": {},
   "source": [
    "### Creating Empty lists for HIV News Articles parameters data to be extracted"
   ]
  },
  {
   "cell_type": "code",
   "execution_count": 2,
   "metadata": {},
   "outputs": [],
   "source": [
    "headlines, descriptions, dates, authors, news, keywords, summaries, urls, category, publication = [], [], [], [], [], [], [], [], [], []"
   ]
  },
  {
   "cell_type": "markdown",
   "metadata": {},
   "source": [
    "### Finding the total no.of.pages by total no.of articles from google search results¶"
   ]
  },
  {
   "cell_type": "code",
   "execution_count": 3,
   "metadata": {},
   "outputs": [],
   "source": [
    "url = 'https://thekabultimes.gov.af/?s=HIV'\n",
    "\n",
    "soup = BeautifulSoup(get(url).text, 'lxml')\n",
    "\n",
    "tokens = [soup.select('.page-numbers')[i].text for i in range(len(soup.select('.page-numbers')))]\n",
    "max_pages = [token for token in tokens if token.isdigit()]"
   ]
  },
  {
   "cell_type": "markdown",
   "metadata": {},
   "source": [
    "### Iterates max_pages value through while loop. Scraping the Articles urls"
   ]
  },
  {
   "cell_type": "code",
   "execution_count": 4,
   "metadata": {},
   "outputs": [
    {
     "name": "stdout",
     "output_type": "stream",
     "text": [
      "2\r"
     ]
    }
   ],
   "source": [
    "for page in max_pages:\n",
    "    try:\n",
    "        url = 'https://thekabultimes.gov.af/page/' + page + '/?s=HIV'\n",
    "        soup = BeautifulSoup(get(url).text, 'lxml')\n",
    "        \n",
    "        # Extracts the Headlines\n",
    "        try:\n",
    "            headline = [soup.select('h2.entry-title')[i].text for i in range(len(soup.select('h2.entry-title')))]\n",
    "            headlines.extend(headline)\n",
    "        except:\n",
    "            headlines.extend(None)\n",
    "            \n",
    "        # Extracts the Authors\n",
    "        try:\n",
    "            author = [soup.select('.entry-meta')[i].select_one('.author').text for i in range(len(soup.select('.entry-meta')))]\n",
    "            authors.extend(author)\n",
    "        except:\n",
    "            authors.extend(None)\n",
    "            \n",
    "        # Extracts the published dates\n",
    "        try:\n",
    "            pub_date = [soup.select('.entry-meta')[i].select_one('.entry-date').text for i in range(len(soup.select('.entry-meta')))]\n",
    "            dates.extend(pub_date)\n",
    "        except:\n",
    "            dates.extend(None)\n",
    "            \n",
    "        # Extracts the news category\n",
    "        try:\n",
    "            cat = [soup.select('.penci-cat-links')[i].text.split() for i in range(len(soup.select('.penci-cat-links')))]\n",
    "            category.extend(cat)\n",
    "        except:\n",
    "            category.extend(None)\n",
    "        \n",
    "        # Extracts URL's\n",
    "        for i in range(len(soup.select('h2.entry-title'))):\n",
    "            urls.append(soup.select('h2.entry-title')[i].a['href'])\n",
    "    \n",
    "    except:\n",
    "        pass\n",
    "    \n",
    "    sys.stdout.write('\\r' + str(page) + '\\r')\n",
    "    sys.stdout.flush()"
   ]
  },
  {
   "cell_type": "markdown",
   "metadata": {},
   "source": [
    "### To remove duplicates urls entries in the list by executing below line"
   ]
  },
  {
   "cell_type": "code",
   "execution_count": 5,
   "metadata": {},
   "outputs": [
    {
     "name": "stdout",
     "output_type": "stream",
     "text": [
      "Total Extracted URL's are : 18 <class 'list'>\n"
     ]
    }
   ],
   "source": [
    "urls = list(dict.fromkeys(urls))\n",
    "print(\"Total Extracted URL's are\" + ' : ' + str(len(urls)), type(urls))"
   ]
  },
  {
   "cell_type": "markdown",
   "metadata": {},
   "source": [
    "### Iterates urls through for loop. Scraping the Articles with above parameters"
   ]
  },
  {
   "cell_type": "code",
   "execution_count": 6,
   "metadata": {},
   "outputs": [
    {
     "name": "stdout",
     "output_type": "stream",
     "text": [
      "Wall time: 1min 38sultimes.gov.af/2018/07/02/women-have-made-considerable-progress-in-various-areas-safi/ld-be-considered-in-publications-minister-safi/\n"
     ]
    }
   ],
   "source": [
    "%%time\n",
    "for index, url in enumerate(urls):\n",
    "    try:\n",
    "        # Parse the url to NewsPlease \n",
    "        article = Article(url)\n",
    "        article.download()\n",
    "        article.parse()\n",
    "        article.nlp()\n",
    "            \n",
    "        # Extracts the Descriptions    \n",
    "        try:\n",
    "            descriptions.append(article.meta_description.strip())\n",
    "        except:\n",
    "            descriptions.append(None)\n",
    "            \n",
    "        # Extracts the news articles\n",
    "        try:\n",
    "            news.append(' '.join(article.text.split()).replace(\"\\'\\'\",\" \").replace(\"\\'\", \"\").replace(\" / \", \"\"))\n",
    "        except:\n",
    "            news.append(None)\n",
    "\n",
    "        # Extracts Keywords and Summaries\n",
    "        try:\n",
    "            keywords.append(article.keywords)\n",
    "            summaries.append(' '.join(article.summary.split()))\n",
    "        except:\n",
    "            keywords.append(None)\n",
    "            summaries.append(None)\n",
    "            \n",
    "        # Extracts the news publication\n",
    "        try:\n",
    "            publication.append(article.meta_data['og']['site_name'])\n",
    "        except:\n",
    "            publication.append(None)\n",
    "                        \n",
    "    except:\n",
    "        descriptions.append(None)\n",
    "        news.append(None)\n",
    "        keywords.append(None)\n",
    "        publication.append(None)\n",
    "        summaries.append(None)\n",
    "\n",
    "    sys.stdout.write('\\r' + str(index) + ' : ' + str(url) + '\\r')\n",
    "    sys.stdout.flush()"
   ]
  },
  {
   "cell_type": "markdown",
   "metadata": {},
   "source": [
    "### Checking Array Length of each list to create DataFrame"
   ]
  },
  {
   "cell_type": "code",
   "execution_count": 7,
   "metadata": {},
   "outputs": [
    {
     "name": "stdout",
     "output_type": "stream",
     "text": [
      "18 18 18 18 18 18 18 18 18 18\n"
     ]
    }
   ],
   "source": [
    "print(len(headlines), len(descriptions), len(authors), len(dates), len(category), len(publication), len(news), len(keywords), len(summaries), len(urls))"
   ]
  },
  {
   "cell_type": "markdown",
   "metadata": {},
   "source": [
    "### Creating a csv file after checking array length and droping the missing values from the dataset"
   ]
  },
  {
   "cell_type": "code",
   "execution_count": 8,
   "metadata": {},
   "outputs": [
    {
     "data": {
      "text/html": [
       "<div>\n",
       "<style scoped>\n",
       "    .dataframe tbody tr th:only-of-type {\n",
       "        vertical-align: middle;\n",
       "    }\n",
       "\n",
       "    .dataframe tbody tr th {\n",
       "        vertical-align: top;\n",
       "    }\n",
       "\n",
       "    .dataframe thead th {\n",
       "        text-align: right;\n",
       "    }\n",
       "</style>\n",
       "<table border=\"1\" class=\"dataframe\">\n",
       "  <thead>\n",
       "    <tr style=\"text-align: right;\">\n",
       "      <th></th>\n",
       "      <th>Headlines</th>\n",
       "      <th>Descriptions</th>\n",
       "      <th>Authors</th>\n",
       "      <th>Published_Dates</th>\n",
       "      <th>Publication</th>\n",
       "      <th>Articles</th>\n",
       "      <th>category</th>\n",
       "      <th>Keywords</th>\n",
       "      <th>Summaries</th>\n",
       "      <th>Source_URLs</th>\n",
       "    </tr>\n",
       "  </thead>\n",
       "  <tbody>\n",
       "    <tr>\n",
       "      <th>0</th>\n",
       "      <td>National Archive needs cooperation to develop,...</td>\n",
       "      <td>KABUL: The National Archive of Afghanistan has...</td>\n",
       "      <td>Saida Ahmadi</td>\n",
       "      <td>August 27, 2018</td>\n",
       "      <td>The Kabul Times</td>\n",
       "      <td>KABUL: The National Archive of Afghanistan has...</td>\n",
       "      <td>[Culture, Social]</td>\n",
       "      <td>[official, archive, visit, afghanistan, rahbee...</td>\n",
       "      <td>KABUL: The National Archive of Afghanistan has...</td>\n",
       "      <td>https://thekabultimes.gov.af/2018/08/27/nation...</td>\n",
       "    </tr>\n",
       "    <tr>\n",
       "      <th>1</th>\n",
       "      <td>Sancharaki inaugurates photo exhibition in Nat...</td>\n",
       "      <td>KABUL: Fazel Sancharaki, the Deputy Minister o...</td>\n",
       "      <td>Saida Ahmadi</td>\n",
       "      <td>August 14, 2018</td>\n",
       "      <td>The Kabul Times</td>\n",
       "      <td>KABUL: Fazel Sancharaki, the Deputy Minister o...</td>\n",
       "      <td>[National]</td>\n",
       "      <td>[culture, archive, inaugurates, kabul, deputy,...</td>\n",
       "      <td>KABUL: Fazel Sancharaki, the Deputy Minister o...</td>\n",
       "      <td>https://thekabultimes.gov.af/2018/08/14/sancha...</td>\n",
       "    </tr>\n",
       "    <tr>\n",
       "      <th>2</th>\n",
       "      <td>“Attention to National Archive means to protec...</td>\n",
       "      <td>KABUL: Acting and Nominee Minister of Informat...</td>\n",
       "      <td>Saida Ahmadi</td>\n",
       "      <td>August 1, 2018</td>\n",
       "      <td>The Kabul Times</td>\n",
       "      <td>KABUL: Acting and Nominee Minister of Informat...</td>\n",
       "      <td>[National]</td>\n",
       "      <td>[information, archive, identity, relics, safi,...</td>\n",
       "      <td>KABUL: Acting and Nominee Minister of Informat...</td>\n",
       "      <td>https://thekabultimes.gov.af/2018/08/01/attent...</td>\n",
       "    </tr>\n",
       "    <tr>\n",
       "      <th>3</th>\n",
       "      <td>“Arg Archive would only be run by MoIC,” Presi...</td>\n",
       "      <td>KABUL: President Mohammad Ashraf Ghani, during...</td>\n",
       "      <td>Saida Ahmadi</td>\n",
       "      <td>July 21, 2018</td>\n",
       "      <td>The Kabul Times</td>\n",
       "      <td>KABUL: President Mohammad Ashraf Ghani, during...</td>\n",
       "      <td>[National]</td>\n",
       "      <td>[ghani, ministry, archive, information, kabul,...</td>\n",
       "      <td>KABUL: President Mohammad Ashraf Ghani, during...</td>\n",
       "      <td>https://thekabultimes.gov.af/2018/07/21/arg-ar...</td>\n",
       "    </tr>\n",
       "    <tr>\n",
       "      <th>4</th>\n",
       "      <td>Health sector still facing challenges despite ...</td>\n",
       "      <td>World Health Day is marked globally on 7 April...</td>\n",
       "      <td>Saida Ahmadi</td>\n",
       "      <td>April 7, 2019</td>\n",
       "      <td>The Kabul Times</td>\n",
       "      <td>World Health Day is marked globally on 7 April...</td>\n",
       "      <td>[Health]</td>\n",
       "      <td>[incidents, despite, sector, afghanistan, chal...</td>\n",
       "      <td>Based on remarks of minister of public health ...</td>\n",
       "      <td>https://thekabultimes.gov.af/2019/04/07/health...</td>\n",
       "    </tr>\n",
       "  </tbody>\n",
       "</table>\n",
       "</div>"
      ],
      "text/plain": [
       "                                           Headlines  \\\n",
       "0  National Archive needs cooperation to develop,...   \n",
       "1  Sancharaki inaugurates photo exhibition in Nat...   \n",
       "2  “Attention to National Archive means to protec...   \n",
       "3  “Arg Archive would only be run by MoIC,” Presi...   \n",
       "4  Health sector still facing challenges despite ...   \n",
       "\n",
       "                                        Descriptions       Authors  \\\n",
       "0  KABUL: The National Archive of Afghanistan has...  Saida Ahmadi   \n",
       "1  KABUL: Fazel Sancharaki, the Deputy Minister o...  Saida Ahmadi   \n",
       "2  KABUL: Acting and Nominee Minister of Informat...  Saida Ahmadi   \n",
       "3  KABUL: President Mohammad Ashraf Ghani, during...  Saida Ahmadi   \n",
       "4  World Health Day is marked globally on 7 April...  Saida Ahmadi   \n",
       "\n",
       "   Published_Dates      Publication  \\\n",
       "0  August 27, 2018  The Kabul Times   \n",
       "1  August 14, 2018  The Kabul Times   \n",
       "2   August 1, 2018  The Kabul Times   \n",
       "3    July 21, 2018  The Kabul Times   \n",
       "4    April 7, 2019  The Kabul Times   \n",
       "\n",
       "                                            Articles           category  \\\n",
       "0  KABUL: The National Archive of Afghanistan has...  [Culture, Social]   \n",
       "1  KABUL: Fazel Sancharaki, the Deputy Minister o...         [National]   \n",
       "2  KABUL: Acting and Nominee Minister of Informat...         [National]   \n",
       "3  KABUL: President Mohammad Ashraf Ghani, during...         [National]   \n",
       "4  World Health Day is marked globally on 7 April...           [Health]   \n",
       "\n",
       "                                            Keywords  \\\n",
       "0  [official, archive, visit, afghanistan, rahbee...   \n",
       "1  [culture, archive, inaugurates, kabul, deputy,...   \n",
       "2  [information, archive, identity, relics, safi,...   \n",
       "3  [ghani, ministry, archive, information, kabul,...   \n",
       "4  [incidents, despite, sector, afghanistan, chal...   \n",
       "\n",
       "                                           Summaries  \\\n",
       "0  KABUL: The National Archive of Afghanistan has...   \n",
       "1  KABUL: Fazel Sancharaki, the Deputy Minister o...   \n",
       "2  KABUL: Acting and Nominee Minister of Informat...   \n",
       "3  KABUL: President Mohammad Ashraf Ghani, during...   \n",
       "4  Based on remarks of minister of public health ...   \n",
       "\n",
       "                                         Source_URLs  \n",
       "0  https://thekabultimes.gov.af/2018/08/27/nation...  \n",
       "1  https://thekabultimes.gov.af/2018/08/14/sancha...  \n",
       "2  https://thekabultimes.gov.af/2018/08/01/attent...  \n",
       "3  https://thekabultimes.gov.af/2018/07/21/arg-ar...  \n",
       "4  https://thekabultimes.gov.af/2019/04/07/health...  "
      ]
     },
     "execution_count": 8,
     "metadata": {},
     "output_type": "execute_result"
    }
   ],
   "source": [
    "if len(headlines) == len(descriptions) == len(authors) == len(dates) == len(news) == len(publication) == len(keywords) == len(summaries) == len(urls) == len(category):\n",
    "    tbl = pd.DataFrame({'Headlines' : headlines,\n",
    "                        'Descriptions' : descriptions,\n",
    "                        'Authors' : authors,\n",
    "                        'Published_Dates' : dates,\n",
    "                        'Publication' : publication,\n",
    "                        'Articles' : news,\n",
    "                        'category' : category,\n",
    "                        'Keywords' : keywords,\n",
    "                        'Summaries' : summaries,\n",
    "                        'Source_URLs' : urls})\n",
    "    tbl.dropna()\n",
    "    path = 'D:\\\\#Backups\\\\Desktop\\\\!Code!\\\\CDRI\\\\HIV\\\\Data Extraction\\\\#Datasets\\\\'\n",
    "    tbl.to_csv(path+'The_Kabul_Times.csv', index=False)\n",
    "else:\n",
    "    print('Array lenght does not match!')\n",
    "\n",
    "tbl.head()"
   ]
  },
  {
   "cell_type": "code",
   "execution_count": 9,
   "metadata": {},
   "outputs": [
    {
     "data": {
      "text/plain": [
       "(18, 10)"
      ]
     },
     "execution_count": 9,
     "metadata": {},
     "output_type": "execute_result"
    }
   ],
   "source": [
    "tbl.shape"
   ]
  }
 ],
 "metadata": {
  "kernelspec": {
   "display_name": "Python 3",
   "language": "python",
   "name": "python3"
  },
  "language_info": {
   "codemirror_mode": {
    "name": "ipython",
    "version": 3
   },
   "file_extension": ".py",
   "mimetype": "text/x-python",
   "name": "python",
   "nbconvert_exporter": "python",
   "pygments_lexer": "ipython3",
   "version": "3.7.3"
  }
 },
 "nbformat": 4,
 "nbformat_minor": 2
}
