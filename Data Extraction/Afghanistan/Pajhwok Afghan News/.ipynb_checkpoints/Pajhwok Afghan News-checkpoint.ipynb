{
 "cells": [
  {
   "cell_type": "markdown",
   "metadata": {},
   "source": [
    "## HIV News articles extraction from Pajhwok Afghan News. Data Extraction of following parameters\n",
    "- Headline\n",
    "- Description\n",
    "- Author\n",
    "- Published_Date\n",
    "- News\n",
    "- URL\n",
    "- Keywords\n",
    "- Summary\n",
    "\n",
    "### Importing the necessary Libraries"
   ]
  },
  {
   "cell_type": "code",
   "execution_count": 1,
   "metadata": {},
   "outputs": [],
   "source": [
    "from selenium.webdriver.chrome.options import Options # enables options in web browser\n",
    "from selenium import webdriver # web-based automation tool for Python\n",
    "from newspaper import Article # Article scraping & curation\n",
    "from bs4 import BeautifulSoup # Python library for pulling data out of HTML and XML files\n",
    "from requests import get # standard for making HTTP requests in Python\n",
    "import pandas as pd # library written for data manipulation and analysis\n",
    "import sys, time #  System-specific parameters and functions"
   ]
  },
  {
   "cell_type": "markdown",
   "metadata": {},
   "source": [
    "### Creating Empty lists for HIV News Articles parameters data to be extracted"
   ]
  },
  {
   "cell_type": "code",
   "execution_count": 2,
   "metadata": {},
   "outputs": [],
   "source": [
    "headlines, descriptions, dates, authors, news, keywords, summaries, urls = [], [], [], [], [], [], [], []"
   ]
  },
  {
   "cell_type": "markdown",
   "metadata": {},
   "source": [
    "### Finding the total no.of.pages by total no.of articles from google search results¶"
   ]
  },
  {
   "cell_type": "code",
   "execution_count": 3,
   "metadata": {},
   "outputs": [],
   "source": [
    "keyword = 'HIV News site:www.pajhwok.com'\n",
    "\n",
    "url = 'https://www.google.com/search?q=' + '+'.join(keyword.split())\n",
    "\n",
    "soup = BeautifulSoup(get(url).text, 'lxml')\n",
    "try:\n",
    "    # Extracts the digits if it the resulted number without comma ','. eg: About 680 results (0.23 seconds)\n",
    "    max_pages = round([int(s) for s in soup.select_one('div#resultStats').text.split() if s.isdigit()][0]/10)\n",
    "    max_pages = max_pages + 1\n",
    "except:\n",
    "    # Extracts the digits if it the resulted number without comma ','. eg: About 1,080 results (0.23 seconds)\n",
    "    max_pages = round(int(''.join(i for i in soup.select_one('div#resultStats').text if i.isdigit()))/10)\n",
    "    max_pages = max_pages + 1"
   ]
  },
  {
   "cell_type": "markdown",
   "metadata": {},
   "source": [
    "### Iterates max_pages value through while loop. Scraping the Articles urls"
   ]
  },
  {
   "cell_type": "code",
   "execution_count": 4,
   "metadata": {},
   "outputs": [
    {
     "name": "stdout",
     "output_type": "stream",
     "text": [
      "21 : 124\r"
     ]
    }
   ],
   "source": [
    "options = Options()\n",
    "options.headless = True\n",
    "browser = webdriver.Chrome(options=options)\n",
    "browser.get(url)\n",
    "\n",
    "index = 0\n",
    "\n",
    "while True:\n",
    "    try:\n",
    "        index +=1\n",
    "        page = browser.page_source\n",
    "        soup = BeautifulSoup(page, 'lxml')\n",
    "        linky = [soup.select('.r')[i].a['href'] for i in range(len(soup.select('.r')))]\n",
    "        urls.extend(linky)\n",
    "        if index == max_pages:\n",
    "            break\n",
    "        browser.find_element_by_xpath('//*[@id=\"pnnext\"]/span[2]').click()\n",
    "        time.sleep(2)\n",
    "        sys.stdout.write('\\r' + str(index) + ' : ' + str(max_pages) + '\\r')\n",
    "        sys.stdout.flush()\n",
    "    except:\n",
    "        pass\n",
    "    \n",
    "browser.quit()"
   ]
  },
  {
   "cell_type": "markdown",
   "metadata": {},
   "source": [
    "### To remove duplicates urls entries in the list by executing below line"
   ]
  },
  {
   "cell_type": "code",
   "execution_count": 5,
   "metadata": {},
   "outputs": [
    {
     "name": "stdout",
     "output_type": "stream",
     "text": [
      "210 <class 'list'>\n"
     ]
    }
   ],
   "source": [
    "urls = list(dict.fromkeys(urls))\n",
    "print(len(urls), type(urls))"
   ]
  },
  {
   "cell_type": "markdown",
   "metadata": {},
   "source": [
    "### Iterates urls through for loop. Scraping the Articles with above parameters"
   ]
  },
  {
   "cell_type": "code",
   "execution_count": 6,
   "metadata": {},
   "outputs": [
    {
     "name": "stdout",
     "output_type": "stream",
     "text": [
      "Wall time: 19min 4sajhwok.com/en/node/482641/they?page=1661e=3page=10nder-long-term-strategy_name%20asc14%3A%20hagel?page=2789&solrsort=sort_label%20ascZ%5D%20type%3Aarticle\n"
     ]
    }
   ],
   "source": [
    "%%time\n",
    "for index, url in enumerate(urls):\n",
    "    try:\n",
    "        # Parse the url to NewsPlease \n",
    "        soup = BeautifulSoup(get(url).text, 'lxml')\n",
    "        article = Article(url)\n",
    "        article.download()\n",
    "        article.parse()\n",
    "        article.nlp()\n",
    "        \n",
    "        # Extracts the Headlines\n",
    "        try:\n",
    "            try:\n",
    "                headlines.append(soup.select_one('meta[property=\"og:title\"]')['content'].strip())\n",
    "            except:\n",
    "                headlines.append(article.title.strip())\n",
    "        except:\n",
    "            headlines.append(None)\n",
    "            \n",
    "        # Extracts the Descriptions    \n",
    "        try:\n",
    "            try:\n",
    "                descriptions.append(soup.select_one('meta[name=\"description\"]')['content'].strip().replace('\\n', ' '))\n",
    "            except:\n",
    "                descriptions.append(article.meta_description.strip())\n",
    "        except:\n",
    "            descriptions.append(None)\n",
    "            \n",
    "        # Extracts the Authors\n",
    "        try:\n",
    "            try:\n",
    "                authors.append(soup.select_one('div.field-item.even').text.strip())\n",
    "            except:\n",
    "                authors.append(article.authors.strip())\n",
    "        except:\n",
    "            authors.append(None)\n",
    "        \n",
    "        # Extracts the published dates\n",
    "        try:\n",
    "            try:\n",
    "                dates.append(soup.select_one('meta[name=\"cXenseParse:recs:publishtime\"]')['content'].strip())\n",
    "            except:\n",
    "                dates.append(str(article.publish_date))\n",
    "        except:\n",
    "            dates.append(None)\n",
    "            \n",
    "        # Extracts the news articles\n",
    "        try:\n",
    "            try:\n",
    "                news.append(soup.select_one('div.field.field-name-body.field-type-text-with-summary.field-label-hidden').text.replace('\\n', '').strip())\n",
    "            except:\n",
    "                news.append(article.text.strip())\n",
    "        except:\n",
    "            news.append(None)\n",
    "            \n",
    "        # Extracts Keywords and Summaries    \n",
    "        try:\n",
    "            keywords.append(article.keywords)\n",
    "            summaries.append(article.summary)\n",
    "        except:\n",
    "            keywords.append(None)\n",
    "            summaries.append(None)\n",
    "            \n",
    "    except:\n",
    "        headlines.append(None)\n",
    "        descriptions.append(None)\n",
    "        authors.append(None)\n",
    "        dates.append(None)\n",
    "        news.append(None)\n",
    "        keywords.append(None)\n",
    "        summaries.append(None)\n",
    "\n",
    "    sys.stdout.write('\\r' + str(index) + ' : ' + str(url) + '\\r')\n",
    "    sys.stdout.flush()"
   ]
  },
  {
   "cell_type": "markdown",
   "metadata": {},
   "source": [
    "### Checking Array Length of each list to create DataFrame"
   ]
  },
  {
   "cell_type": "code",
   "execution_count": 7,
   "metadata": {},
   "outputs": [
    {
     "name": "stdout",
     "output_type": "stream",
     "text": [
      "210 210 210 210 210 210 210 210\n"
     ]
    }
   ],
   "source": [
    "print(len(headlines), len(descriptions), len(authors), len(dates), len(news), len(keywords), len(summaries), len(urls))"
   ]
  },
  {
   "cell_type": "markdown",
   "metadata": {},
   "source": [
    "### Creating a csv file after checking array length and droping the missing values from the dataset"
   ]
  },
  {
   "cell_type": "code",
   "execution_count": 8,
   "metadata": {},
   "outputs": [
    {
     "data": {
      "text/html": [
       "<div>\n",
       "<style scoped>\n",
       "    .dataframe tbody tr th:only-of-type {\n",
       "        vertical-align: middle;\n",
       "    }\n",
       "\n",
       "    .dataframe tbody tr th {\n",
       "        vertical-align: top;\n",
       "    }\n",
       "\n",
       "    .dataframe thead th {\n",
       "        text-align: right;\n",
       "    }\n",
       "</style>\n",
       "<table border=\"1\" class=\"dataframe\">\n",
       "  <thead>\n",
       "    <tr style=\"text-align: right;\">\n",
       "      <th></th>\n",
       "      <th>Headlines</th>\n",
       "      <th>Descriptions</th>\n",
       "      <th>Authors</th>\n",
       "      <th>Published_Dates</th>\n",
       "      <th>Articles</th>\n",
       "      <th>Keywords</th>\n",
       "      <th>Summaries</th>\n",
       "    </tr>\n",
       "  </thead>\n",
       "  <tbody>\n",
       "    <tr>\n",
       "      <th>0</th>\n",
       "      <td>HIV/AIDS treatment center opens in Khost</td>\n",
       "      <td>KHOST CITY (Pajhwok): A HIV/AIDS and hepatitis...</td>\n",
       "      <td>Mohammad Haroon</td>\n",
       "      <td>2017-07-25 00:00:00</td>\n",
       "      <td>KHOST CITY (Pajhwok): A HIV/AIDS and hepatitis...</td>\n",
       "      <td>[treatment, registered, hivaids, virus, countr...</td>\n",
       "      <td>KHOST CITY (Pajhwok): A HIV/AIDS and hepatitis...</td>\n",
       "    </tr>\n",
       "    <tr>\n",
       "      <th>1</th>\n",
       "      <td>Pajhwok Afghan News</td>\n",
       "      <td></td>\n",
       "      <td>Mohammad Haroon</td>\n",
       "      <td>None</td>\n",
       "      <td>KHOST CITY (Pajhwok): Lack of awareness about ...</td>\n",
       "      <td>[pajhwok, afghan, clicking, suggestions, inter...</td>\n",
       "      <td>Pajhwok is interested in your story suggestion...</td>\n",
       "    </tr>\n",
       "    <tr>\n",
       "      <th>2</th>\n",
       "      <td>MoU on treatment of HIV/AIDS positive inmates ...</td>\n",
       "      <td>KABUL (Pajhwok): The Ministry of Public Health...</td>\n",
       "      <td>Pajhwok</td>\n",
       "      <td>2017-06-05 00:00:00</td>\n",
       "      <td>KABUL (Pajhwok): The Ministry of Public Health...</td>\n",
       "      <td>[treatment, mou, agreement, hivaids, prisoners...</td>\n",
       "      <td>KABUL (Pajhwok): The Ministry of Public Health...</td>\n",
       "    </tr>\n",
       "    <tr>\n",
       "      <th>3</th>\n",
       "      <td>Pajhwok Afghan News</td>\n",
       "      <td></td>\n",
       "      <td>Mohammad Haroon</td>\n",
       "      <td>None</td>\n",
       "      <td>KHOST CITY (Pajhwok): A HIV/AIDS and hepatitis...</td>\n",
       "      <td>[pajhwok, afghan, clicking, suggestions, inter...</td>\n",
       "      <td>Pajhwok is interested in your story suggestion...</td>\n",
       "    </tr>\n",
       "    <tr>\n",
       "      <th>4</th>\n",
       "      <td>Farhad Darya as the Good Will Ambassador again...</td>\n",
       "      <td></td>\n",
       "      <td>Zainullah mahbobi</td>\n",
       "      <td>None</td>\n",
       "      <td>KABUL, Mar 28, 2018: Right to left, Ferozuddin...</td>\n",
       "      <td>[ambassador, signing, public, singers, selecte...</td>\n",
       "      <td>KABUL , Mar 28, 2018: Right to left, Ferozuddi...</td>\n",
       "    </tr>\n",
       "  </tbody>\n",
       "</table>\n",
       "</div>"
      ],
      "text/plain": [
       "                                           Headlines  \\\n",
       "0           HIV/AIDS treatment center opens in Khost   \n",
       "1                                Pajhwok Afghan News   \n",
       "2  MoU on treatment of HIV/AIDS positive inmates ...   \n",
       "3                                Pajhwok Afghan News   \n",
       "4  Farhad Darya as the Good Will Ambassador again...   \n",
       "\n",
       "                                        Descriptions            Authors  \\\n",
       "0  KHOST CITY (Pajhwok): A HIV/AIDS and hepatitis...    Mohammad Haroon   \n",
       "1                                                       Mohammad Haroon   \n",
       "2  KABUL (Pajhwok): The Ministry of Public Health...            Pajhwok   \n",
       "3                                                       Mohammad Haroon   \n",
       "4                                                     Zainullah mahbobi   \n",
       "\n",
       "       Published_Dates                                           Articles  \\\n",
       "0  2017-07-25 00:00:00  KHOST CITY (Pajhwok): A HIV/AIDS and hepatitis...   \n",
       "1                 None  KHOST CITY (Pajhwok): Lack of awareness about ...   \n",
       "2  2017-06-05 00:00:00  KABUL (Pajhwok): The Ministry of Public Health...   \n",
       "3                 None  KHOST CITY (Pajhwok): A HIV/AIDS and hepatitis...   \n",
       "4                 None  KABUL, Mar 28, 2018: Right to left, Ferozuddin...   \n",
       "\n",
       "                                            Keywords  \\\n",
       "0  [treatment, registered, hivaids, virus, countr...   \n",
       "1  [pajhwok, afghan, clicking, suggestions, inter...   \n",
       "2  [treatment, mou, agreement, hivaids, prisoners...   \n",
       "3  [pajhwok, afghan, clicking, suggestions, inter...   \n",
       "4  [ambassador, signing, public, singers, selecte...   \n",
       "\n",
       "                                           Summaries  \n",
       "0  KHOST CITY (Pajhwok): A HIV/AIDS and hepatitis...  \n",
       "1  Pajhwok is interested in your story suggestion...  \n",
       "2  KABUL (Pajhwok): The Ministry of Public Health...  \n",
       "3  Pajhwok is interested in your story suggestion...  \n",
       "4  KABUL , Mar 28, 2018: Right to left, Ferozuddi...  "
      ]
     },
     "execution_count": 8,
     "metadata": {},
     "output_type": "execute_result"
    }
   ],
   "source": [
    "tbl = pd.DataFrame({'Headlines' : headlines,\n",
    "                    'Descriptions' : descriptions,\n",
    "                    'Authors' : authors,\n",
    "                    'Published_Dates' : dates, \n",
    "                    'Articles' : news,\n",
    "                    'Keywords' : keywords,\n",
    "                    'Summaries' : summaries,})\n",
    "#tbl = tbl.dropna()\n",
    "tbl.to_csv('Pajhwok_Afghan_News.csv', index=False)\n",
    "tbl.head()"
   ]
  }
 ],
 "metadata": {
  "kernelspec": {
   "display_name": "Python 3",
   "language": "python",
   "name": "python3"
  },
  "language_info": {
   "codemirror_mode": {
    "name": "ipython",
    "version": 3
   },
   "file_extension": ".py",
   "mimetype": "text/x-python",
   "name": "python",
   "nbconvert_exporter": "python",
   "pygments_lexer": "ipython3",
   "version": "3.7.1"
  }
 },
 "nbformat": 4,
 "nbformat_minor": 2
}
