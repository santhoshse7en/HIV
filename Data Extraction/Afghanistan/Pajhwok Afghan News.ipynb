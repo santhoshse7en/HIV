{
 "cells": [
  {
   "cell_type": "markdown",
   "metadata": {},
   "source": [
    "## HIV News articles extraction from Pajhwok Afghan News. Data Extraction of following parameters\n",
    "- Headline\n",
    "- Description\n",
    "- Author\n",
    "- Published Date\n",
    "- Category\n",
    "- Publication\n",
    "- News\n",
    "- URL\n",
    "- Keywords\n",
    "- Summary\n",
    "\n",
    "### Importing the necessary Libraries"
   ]
  },
  {
   "cell_type": "code",
   "execution_count": 1,
   "metadata": {},
   "outputs": [],
   "source": [
    "from selenium.webdriver.chrome.options import Options # enables options in web browser\n",
    "from selenium import webdriver # web-based automation tool for Python\n",
    "from newspaper import Article # Article scraping & curation\n",
    "from bs4 import BeautifulSoup # Python library for pulling data out of HTML and XML files\n",
    "from requests import get # standard for making HTTP requests in Python\n",
    "import pandas as pd # library written for data manipulation and analysis\n",
    "import sys, time #  System-specific parameters and functions"
   ]
  },
  {
   "cell_type": "markdown",
   "metadata": {},
   "source": [
    "### Creating Empty lists for HIV News Articles parameters data to be extracted"
   ]
  },
  {
   "cell_type": "code",
   "execution_count": 2,
   "metadata": {},
   "outputs": [],
   "source": [
    "headlines, descriptions, dates, authors, news, keywords, summaries, urls, category, publication = [], [], [], [], [], [], [], [], [], []"
   ]
  },
  {
   "cell_type": "markdown",
   "metadata": {},
   "source": [
    "### Finding the total no.of.pages by total no.of articles from Pajhwok Afghan News ¶"
   ]
  },
  {
   "cell_type": "code",
   "execution_count": 3,
   "metadata": {},
   "outputs": [],
   "source": [
    "url = 'https://www.pajhwok.com/en/search/node/HIV'\n",
    "soup = BeautifulSoup(get(url).text, 'lxml')\n",
    "\n",
    "tokens = [soup.select_one('.pager').select('li')[i].text for i in range(len(soup.select_one('.pager').select('li')))]\n",
    "pages = [token for token in tokens if token.isdigit()]"
   ]
  },
  {
   "cell_type": "markdown",
   "metadata": {},
   "source": [
    "### Iterates max_pages value through while loop. Scraping the Articles urls and basic info"
   ]
  },
  {
   "cell_type": "code",
   "execution_count": 4,
   "metadata": {},
   "outputs": [
    {
     "name": "stdout",
     "output_type": "stream",
     "text": [
      "6 : 7\r"
     ]
    }
   ],
   "source": [
    "try:\n",
    "    for index, page in enumerate(pages):\n",
    "        url = 'https://www.pajhwok.com/en/search/node/HIV?page=' + page\n",
    "        soup = BeautifulSoup(get(url).text, 'lxml')\n",
    "\n",
    "        # Extracts the Headlines\n",
    "        try:\n",
    "            headline = [soup.select('li.search-result')[i].select_one('.title').text.strip() for i in range(len(soup.select('li.search-result')))]\n",
    "            headlines.extend(headline)\n",
    "        except:\n",
    "            headlines.extend(None)\n",
    "\n",
    "        # Extracts the published dates\n",
    "        try:\n",
    "            pub_date = [soup.select('li.search-result')[i].select_one('.search-info').text.split()[2] for i in range(len(soup.select('li.search-result')))]\n",
    "            dates.extend(pub_date)\n",
    "        except:\n",
    "            dates.extend(None)\n",
    "\n",
    "        # Extracts the urls\n",
    "        try:\n",
    "            source = [soup.select('li.search-result')[i].select_one('.title').a['href'] for i in range(len(soup.select('li.search-result')))]\n",
    "            urls.extend(source)\n",
    "        except:\n",
    "            urls.extend(None)\n",
    "\n",
    "        # Extracts the Authors\n",
    "        try:\n",
    "            author = [soup.select('li.search-result')[i].select_one('.username').text for i in range(len(soup.select('li.search-result')))]\n",
    "            authors.extend(author)\n",
    "        except:\n",
    "            authors.extend(None)\n",
    "            \n",
    "        sys.stdout.write('\\r' + str(index) + ' : ' + str(len(pages)) + '\\r')\n",
    "        sys.stdout.flush()\n",
    "except:\n",
    "    pass"
   ]
  },
  {
   "cell_type": "markdown",
   "metadata": {},
   "source": [
    "### Iterates urls through for loop. Scraping the Articles with above parameters"
   ]
  },
  {
   "cell_type": "code",
   "execution_count": 5,
   "metadata": {},
   "outputs": [
    {
     "name": "stdout",
     "output_type": "stream",
     "text": [
      "You must `download()` an article first!23/18-aids-cases-total-detected-takharahar\n",
      "You must `download()` an article first!/30/trafficking-persons-irregular-migrants-afghanistanroz\n",
      "You must `download()` an article first!4983\n",
      "Wall time: 4min 7sajhwok.com/en/node/474982\n"
     ]
    }
   ],
   "source": [
    "%%time\n",
    "for index, url in enumerate(urls):\n",
    "    try:\n",
    "        # Parse the url to NewsPlease \n",
    "        article = Article(url)\n",
    "        article.download()\n",
    "        article.parse()\n",
    "        article.nlp()\n",
    "            \n",
    "        # Extracts the Descriptions    \n",
    "        try:\n",
    "            descriptions.append(article.meta_description.strip())\n",
    "        except:\n",
    "            descriptions.append(None)\n",
    "            \n",
    "        # Extracts the news category\n",
    "        try:\n",
    "            category.append(article.meta_data['category'])\n",
    "        except:\n",
    "            category.append(None)\n",
    "            \n",
    "        # Extracts the news articles\n",
    "        try:\n",
    "            news.append(' '.join(article.text.split()).replace(\"\\'\\'\",\" \").replace(\"\\'\", \"\").replace(\" / \", \"\"))\n",
    "        except:\n",
    "            news.append(None)\n",
    "            \n",
    "        # Extracts the news publication\n",
    "        try:\n",
    "            publication.append(article.meta_data['og']['site_name'])\n",
    "        except:\n",
    "            publication.append(None)\n",
    "\n",
    "        # Extracts Keywords and Summaries\n",
    "        try:\n",
    "            keywords.append(article.keywords)\n",
    "            summaries.append(' '.join(article.summary.split()))\n",
    "        except:\n",
    "            keywords.append(None)\n",
    "            summaries.append(None)\n",
    "                        \n",
    "    except:\n",
    "        descriptions.append(None)\n",
    "        category.append(None)\n",
    "        publication.append(None)\n",
    "        news.append(None)\n",
    "        keywords.append(None)\n",
    "        summaries.append(None)\n",
    "\n",
    "    sys.stdout.write('\\r' + str(index) + ' : ' + str(url) + '\\r')\n",
    "    sys.stdout.flush()"
   ]
  },
  {
   "cell_type": "markdown",
   "metadata": {},
   "source": [
    "### Checking Array Length of each list to create DataFrame"
   ]
  },
  {
   "cell_type": "code",
   "execution_count": 6,
   "metadata": {},
   "outputs": [
    {
     "name": "stdout",
     "output_type": "stream",
     "text": [
      "60 60 60 60 60 60 60 60 60 60\n"
     ]
    }
   ],
   "source": [
    "print(len(headlines), len(descriptions), len(authors), len(dates), len(category), len(publication), len(news), len(keywords), len(summaries), len(urls))"
   ]
  },
  {
   "cell_type": "markdown",
   "metadata": {},
   "source": [
    "### Creating a csv file after checking array length and droping the missing values from the dataset"
   ]
  },
  {
   "cell_type": "code",
   "execution_count": 7,
   "metadata": {},
   "outputs": [
    {
     "data": {
      "text/html": [
       "<div>\n",
       "<style scoped>\n",
       "    .dataframe tbody tr th:only-of-type {\n",
       "        vertical-align: middle;\n",
       "    }\n",
       "\n",
       "    .dataframe tbody tr th {\n",
       "        vertical-align: top;\n",
       "    }\n",
       "\n",
       "    .dataframe thead th {\n",
       "        text-align: right;\n",
       "    }\n",
       "</style>\n",
       "<table border=\"1\" class=\"dataframe\">\n",
       "  <thead>\n",
       "    <tr style=\"text-align: right;\">\n",
       "      <th></th>\n",
       "      <th>Headlines</th>\n",
       "      <th>Descriptions</th>\n",
       "      <th>Authors</th>\n",
       "      <th>Published_Dates</th>\n",
       "      <th>Publication</th>\n",
       "      <th>Articles</th>\n",
       "      <th>category</th>\n",
       "      <th>Keywords</th>\n",
       "      <th>Summaries</th>\n",
       "      <th>Source_URLs</th>\n",
       "    </tr>\n",
       "  </thead>\n",
       "  <tbody>\n",
       "    <tr>\n",
       "      <th>0</th>\n",
       "      <td>World HIV (AIDS) Day</td>\n",
       "      <td></td>\n",
       "      <td>editor</td>\n",
       "      <td>2010-12-04</td>\n",
       "      <td>None</td>\n",
       "      <td>KABUL , Dec 01, 2010: Acting Minister of Publi...</td>\n",
       "      <td>{}</td>\n",
       "      <td>[special, mark, public, minister, participates...</td>\n",
       "      <td>KABUL , Dec 01, 2010: Acting Minister of Publi...</td>\n",
       "      <td>https://www.pajhwok.com/en/photo/128236</td>\n",
       "    </tr>\n",
       "    <tr>\n",
       "      <th>1</th>\n",
       "      <td>Farhad Darya as the Good Will Ambassador again...</td>\n",
       "      <td></td>\n",
       "      <td>Zahra.Hamidi</td>\n",
       "      <td>2018-03-28</td>\n",
       "      <td>None</td>\n",
       "      <td>KABUL , Mar 28, 2018: Right to left, Ferozuddi...</td>\n",
       "      <td>{}</td>\n",
       "      <td>[good, ambassador, darya, selected, right, pub...</td>\n",
       "      <td>KABUL , Mar 28, 2018: Right to left, Ferozuddi...</td>\n",
       "      <td>https://www.pajhwok.com/en/node/510402</td>\n",
       "    </tr>\n",
       "    <tr>\n",
       "      <th>2</th>\n",
       "      <td>HIV ايدس</td>\n",
       "      <td></td>\n",
       "      <td>hasib.noori</td>\n",
       "      <td>2011-12-03</td>\n",
       "      <td>None</td>\n",
       "      <td>Pajhwok is interested in your story suggestion...</td>\n",
       "      <td>{}</td>\n",
       "      <td>[tell, suggestions, pajhwok, interested, thoug...</td>\n",
       "      <td>Pajhwok is interested in your story suggestion...</td>\n",
       "      <td>https://www.pajhwok.com/en/photo/163392</td>\n",
       "    </tr>\n",
       "    <tr>\n",
       "      <th>3</th>\n",
       "      <td>HIV/AIDS</td>\n",
       "      <td></td>\n",
       "      <td>editor</td>\n",
       "      <td>2010-10-27</td>\n",
       "      <td>None</td>\n",
       "      <td>KABUL , Oct 26, 2010: Deputy public health min...</td>\n",
       "      <td>{}</td>\n",
       "      <td>[oct, public, minister, letter, sadruddin, rad...</td>\n",
       "      <td>KABUL , Oct 26, 2010: Deputy public health min...</td>\n",
       "      <td>https://www.pajhwok.com/en/photo/115943</td>\n",
       "    </tr>\n",
       "    <tr>\n",
       "      <th>4</th>\n",
       "      <td>Women among HIV-positive cases in Kandahar</td>\n",
       "      <td>KANDAHAR CITY (Pajhwok): The numbers of Human ...</td>\n",
       "      <td>rehmat.mehsud</td>\n",
       "      <td>2015-03-10</td>\n",
       "      <td>None</td>\n",
       "      <td>KANDAHAR CITY (Pajhwok): The numbers of Human ...</td>\n",
       "      <td>{}</td>\n",
       "      <td>[44, virus, unawareness, kandahar, spread, wom...</td>\n",
       "      <td>KANDAHAR CITY (Pajhwok): The numbers of Human ...</td>\n",
       "      <td>https://www.pajhwok.com/en/2015/03/10/women-am...</td>\n",
       "    </tr>\n",
       "  </tbody>\n",
       "</table>\n",
       "</div>"
      ],
      "text/plain": [
       "                                           Headlines  \\\n",
       "0                               World HIV (AIDS) Day   \n",
       "1  Farhad Darya as the Good Will Ambassador again...   \n",
       "2                                           HIV ايدس   \n",
       "3                                           HIV/AIDS   \n",
       "4         Women among HIV-positive cases in Kandahar   \n",
       "\n",
       "                                        Descriptions        Authors  \\\n",
       "0                                                            editor   \n",
       "1                                                      Zahra.Hamidi   \n",
       "2                                                       hasib.noori   \n",
       "3                                                            editor   \n",
       "4  KANDAHAR CITY (Pajhwok): The numbers of Human ...  rehmat.mehsud   \n",
       "\n",
       "  Published_Dates Publication  \\\n",
       "0      2010-12-04        None   \n",
       "1      2018-03-28        None   \n",
       "2      2011-12-03        None   \n",
       "3      2010-10-27        None   \n",
       "4      2015-03-10        None   \n",
       "\n",
       "                                            Articles category  \\\n",
       "0  KABUL , Dec 01, 2010: Acting Minister of Publi...       {}   \n",
       "1  KABUL , Mar 28, 2018: Right to left, Ferozuddi...       {}   \n",
       "2  Pajhwok is interested in your story suggestion...       {}   \n",
       "3  KABUL , Oct 26, 2010: Deputy public health min...       {}   \n",
       "4  KANDAHAR CITY (Pajhwok): The numbers of Human ...       {}   \n",
       "\n",
       "                                            Keywords  \\\n",
       "0  [special, mark, public, minister, participates...   \n",
       "1  [good, ambassador, darya, selected, right, pub...   \n",
       "2  [tell, suggestions, pajhwok, interested, thoug...   \n",
       "3  [oct, public, minister, letter, sadruddin, rad...   \n",
       "4  [44, virus, unawareness, kandahar, spread, wom...   \n",
       "\n",
       "                                           Summaries  \\\n",
       "0  KABUL , Dec 01, 2010: Acting Minister of Publi...   \n",
       "1  KABUL , Mar 28, 2018: Right to left, Ferozuddi...   \n",
       "2  Pajhwok is interested in your story suggestion...   \n",
       "3  KABUL , Oct 26, 2010: Deputy public health min...   \n",
       "4  KANDAHAR CITY (Pajhwok): The numbers of Human ...   \n",
       "\n",
       "                                         Source_URLs  \n",
       "0            https://www.pajhwok.com/en/photo/128236  \n",
       "1             https://www.pajhwok.com/en/node/510402  \n",
       "2            https://www.pajhwok.com/en/photo/163392  \n",
       "3            https://www.pajhwok.com/en/photo/115943  \n",
       "4  https://www.pajhwok.com/en/2015/03/10/women-am...  "
      ]
     },
     "execution_count": 7,
     "metadata": {},
     "output_type": "execute_result"
    }
   ],
   "source": [
    "if len(headlines) == len(descriptions) == len(authors) == len(dates) == len(news) == len(publication) == len(keywords) == len(summaries) == len(urls) == len(category):\n",
    "    tbl = pd.DataFrame({'Headlines' : headlines,\n",
    "                        'Descriptions' : descriptions,\n",
    "                        'Authors' : authors,\n",
    "                        'Published_Dates' : dates,\n",
    "                        'Publication' : publication,\n",
    "                        'Articles' : news,\n",
    "                        'category' : category,\n",
    "                        'Keywords' : keywords,\n",
    "                        'Summaries' : summaries,\n",
    "                        'Source_URLs' : urls})\n",
    "    tbl.dropna()\n",
    "    path = 'D:\\\\#Backups\\\\Desktop\\\\!Code!\\\\CDRI\\\\HIV\\\\Data Extraction\\\\#Datasets\\\\'\n",
    "    tbl.to_csv(path+'Pajhwok_Afghan_News.csv', index=False)\n",
    "else:\n",
    "    print('Array lenght does not match!')\n",
    "\n",
    "tbl.head()"
   ]
  }
 ],
 "metadata": {
  "kernelspec": {
   "display_name": "Python 3",
   "language": "python",
   "name": "python3"
  },
  "language_info": {
   "codemirror_mode": {
    "name": "ipython",
    "version": 3
   },
   "file_extension": ".py",
   "mimetype": "text/x-python",
   "name": "python",
   "nbconvert_exporter": "python",
   "pygments_lexer": "ipython3",
   "version": "3.7.3"
  }
 },
 "nbformat": 4,
 "nbformat_minor": 2
}
