{
 "cells": [
  {
   "cell_type": "markdown",
   "metadata": {},
   "source": [
    "## HIV News articles extraction from The Kabul Times. Data Extraction of following parameters\n",
    "- Headline\n",
    "- Description\n",
    "- Author\n",
    "- Published_Date\n",
    "- News\n",
    "- URL\n",
    "- Keywords\n",
    "- Summary\n",
    "\n",
    "### Importing the necessary Libraries"
   ]
  },
  {
   "cell_type": "code",
   "execution_count": 1,
   "metadata": {},
   "outputs": [],
   "source": [
    "from newspaper import Article # Article scraping & curation\n",
    "from bs4 import BeautifulSoup # Python library for pulling data out of HTML and XML files\n",
    "from requests import get # standard for making HTTP requests in Python\n",
    "import pandas as pd # library written for data manipulation and analysis\n",
    "import sys, time #  System-specific parameters and functions"
   ]
  },
  {
   "cell_type": "markdown",
   "metadata": {},
   "source": [
    "### Creating Empty lists for HIV News Articles parameters data to be extracted"
   ]
  },
  {
   "cell_type": "code",
   "execution_count": 2,
   "metadata": {},
   "outputs": [],
   "source": [
    "headlines, descriptions, dates, authors, news, keywords, summaries, urls = [], [], [], [], [], [], [], []"
   ]
  },
  {
   "cell_type": "markdown",
   "metadata": {},
   "source": [
    "### Finding the total no.of.pages by total no.of articles from google search results¶"
   ]
  },
  {
   "cell_type": "code",
   "execution_count": 3,
   "metadata": {},
   "outputs": [],
   "source": [
    "url = 'https://thekabultimes.gov.af/?s=HIV'\n",
    "\n",
    "soup = BeautifulSoup(get(url).text, 'lxml')\n",
    "\n",
    "max_pages = [soup.select('.page-numbers')[i].text for i in range(len(soup.select('.page-numbers')))]"
   ]
  },
  {
   "cell_type": "markdown",
   "metadata": {},
   "source": [
    "### Iterates max_pages value through while loop. Scraping the Articles urls"
   ]
  },
  {
   "cell_type": "code",
   "execution_count": 4,
   "metadata": {},
   "outputs": [
    {
     "name": "stdout",
     "output_type": "stream",
     "text": [
      "2"
     ]
    }
   ],
   "source": [
    "for page in max_pages:\n",
    "    try:\n",
    "        url = 'https://thekabultimes.gov.af/page/' + page + '/?s=HIV'\n",
    "        soup = BeautifulSoup(get(url).text, 'lxml')\n",
    "        \n",
    "        # Extracts URL's\n",
    "        for i in range(len(soup.select('h2.entry-title'))):\n",
    "            urls.append(soup.select('h2.entry-title')[i].a['href'])\n",
    "    \n",
    "    except:\n",
    "        pass\n",
    "    \n",
    "    sys.stdout.write('\\r' + str(page) + '\\r')\n",
    "    sys.stdout.flush()"
   ]
  },
  {
   "cell_type": "markdown",
   "metadata": {},
   "source": [
    "### To remove duplicates urls entries in the list by executing below line"
   ]
  },
  {
   "cell_type": "code",
   "execution_count": 5,
   "metadata": {},
   "outputs": [
    {
     "name": "stdout",
     "output_type": "stream",
     "text": [
      "18 <class 'list'>\n"
     ]
    }
   ],
   "source": [
    "urls = list(dict.fromkeys(urls))\n",
    "print(len(urls), type(urls))"
   ]
  },
  {
   "cell_type": "markdown",
   "metadata": {},
   "source": [
    "### Iterates urls through for loop. Scraping the Articles with above parameters"
   ]
  },
  {
   "cell_type": "code",
   "execution_count": 6,
   "metadata": {},
   "outputs": [
    {
     "name": "stdout",
     "output_type": "stream",
     "text": [
      "Wall time: 2min 16sultimes.gov.af/2018/07/02/women-have-made-considerable-progress-in-various-areas-safi/ld-be-considered-in-publications-minister-safi/\n"
     ]
    }
   ],
   "source": [
    "%%time\n",
    "for index, url in enumerate(urls):\n",
    "    try:\n",
    "        # Parse the url to NewsPlease \n",
    "        article = Article(url)\n",
    "        article.download()\n",
    "        article.parse()\n",
    "        article.nlp()\n",
    "        \n",
    "        # Extracts the Headlines\n",
    "        try:\n",
    "            headlines.append(article.title.strip())\n",
    "        except:\n",
    "            headlines.append(None)\n",
    "            \n",
    "        # Extracts the Descriptions    \n",
    "        try:\n",
    "            descriptions.append(article.meta_description.strip())\n",
    "        except:\n",
    "            descriptions.append(None)\n",
    "            \n",
    "        # Extracts the Authors\n",
    "        try:\n",
    "            authors.append(article.authors.strip())\n",
    "        except:\n",
    "            authors.append(None)\n",
    "        \n",
    "        # Extracts the published dates\n",
    "        try:\n",
    "            dates.append(str(article.publish_date))\n",
    "        except:\n",
    "            dates.append(None)\n",
    "            \n",
    "        # Extracts the news articles\n",
    "        try:\n",
    "            news.append(article.text.strip())\n",
    "        except:\n",
    "            news.append(None)\n",
    "            \n",
    "        # Extracts Keywords and Summaries    \n",
    "        try:\n",
    "            keywords.append(article.keywords)\n",
    "            summaries.append(article.summary)\n",
    "        except:\n",
    "            keywords.append(None)\n",
    "            summaries.append(None)\n",
    "            \n",
    "    except:\n",
    "        headlines.append(None)\n",
    "        descriptions.append(None)\n",
    "        authors.append(None)\n",
    "        dates.append(None)\n",
    "        news.append(None)\n",
    "        keywords.append(None)\n",
    "        summaries.append(None)\n",
    "\n",
    "    sys.stdout.write('\\r' + str(index) + ' : ' + str(url) + '\\r')\n",
    "    sys.stdout.flush()"
   ]
  },
  {
   "cell_type": "markdown",
   "metadata": {},
   "source": [
    "### Checking Array Length of each list to create DataFrame"
   ]
  },
  {
   "cell_type": "code",
   "execution_count": 7,
   "metadata": {},
   "outputs": [
    {
     "name": "stdout",
     "output_type": "stream",
     "text": [
      "18 18 18 18 18 18 18 18\n"
     ]
    }
   ],
   "source": [
    "print(len(headlines), len(descriptions), len(authors), len(dates), len(news), len(keywords), len(summaries), len(urls))"
   ]
  },
  {
   "cell_type": "markdown",
   "metadata": {},
   "source": [
    "### Creating a csv file after checking array length and droping the missing values from the dataset"
   ]
  },
  {
   "cell_type": "code",
   "execution_count": 8,
   "metadata": {},
   "outputs": [
    {
     "data": {
      "text/html": [
       "<div>\n",
       "<style scoped>\n",
       "    .dataframe tbody tr th:only-of-type {\n",
       "        vertical-align: middle;\n",
       "    }\n",
       "\n",
       "    .dataframe tbody tr th {\n",
       "        vertical-align: top;\n",
       "    }\n",
       "\n",
       "    .dataframe thead th {\n",
       "        text-align: right;\n",
       "    }\n",
       "</style>\n",
       "<table border=\"1\" class=\"dataframe\">\n",
       "  <thead>\n",
       "    <tr style=\"text-align: right;\">\n",
       "      <th></th>\n",
       "      <th>Headlines</th>\n",
       "      <th>Descriptions</th>\n",
       "      <th>Authors</th>\n",
       "      <th>Published_Dates</th>\n",
       "      <th>Articles</th>\n",
       "      <th>Keywords</th>\n",
       "      <th>Summaries</th>\n",
       "    </tr>\n",
       "  </thead>\n",
       "  <tbody>\n",
       "    <tr>\n",
       "      <th>0</th>\n",
       "      <td>National Archive needs cooperation to develop,...</td>\n",
       "      <td>KABUL: The National Archive of Afghanistan has...</td>\n",
       "      <td>None</td>\n",
       "      <td>2018-08-27 00:00:00</td>\n",
       "      <td>KABUL: The National Archive of Afghanistan has...</td>\n",
       "      <td>[visit, official, rahbeen, national, cooperati...</td>\n",
       "      <td>KABUL: The National Archive of Afghanistan has...</td>\n",
       "    </tr>\n",
       "    <tr>\n",
       "      <th>1</th>\n",
       "      <td>Sancharaki inaugurates photo exhibition in Nat...</td>\n",
       "      <td>KABUL: Fazel Sancharaki, the Deputy Minister o...</td>\n",
       "      <td>None</td>\n",
       "      <td>2018-08-14 00:00:00</td>\n",
       "      <td>KABUL: Fazel Sancharaki, the Deputy Minister o...</td>\n",
       "      <td>[old, deputy, culture, minister, displayed, na...</td>\n",
       "      <td>KABUL: Fazel Sancharaki, the Deputy Minister o...</td>\n",
       "    </tr>\n",
       "    <tr>\n",
       "      <th>2</th>\n",
       "      <td>“Attention to National Archive means to protec...</td>\n",
       "      <td>KABUL: Acting and Nominee Minister of Informat...</td>\n",
       "      <td>None</td>\n",
       "      <td>2018-08-01 00:00:00</td>\n",
       "      <td>KABUL: Acting and Nominee Minister of Informat...</td>\n",
       "      <td>[problems, protect, information, minister, nat...</td>\n",
       "      <td>KABUL: Acting and Nominee Minister of Informat...</td>\n",
       "    </tr>\n",
       "    <tr>\n",
       "      <th>3</th>\n",
       "      <td>“Arg Archive would only be run by MoIC,” Presi...</td>\n",
       "      <td>KABUL: President Mohammad Ashraf Ghani, during...</td>\n",
       "      <td>None</td>\n",
       "      <td>2018-07-21 00:00:00</td>\n",
       "      <td>KABUL: President Mohammad Ashraf Ghani, during...</td>\n",
       "      <td>[arg, information, presidential, students, cul...</td>\n",
       "      <td>KABUL: President Mohammad Ashraf Ghani, during...</td>\n",
       "    </tr>\n",
       "    <tr>\n",
       "      <th>4</th>\n",
       "      <td>Health sector still facing challenges despite ...</td>\n",
       "      <td>World Health Day is marked globally on 7 April...</td>\n",
       "      <td>None</td>\n",
       "      <td>2019-04-07 00:00:00</td>\n",
       "      <td>World Health Day is marked globally on 7 April...</td>\n",
       "      <td>[sector, problems, cancer, afghanistan, incide...</td>\n",
       "      <td>Based on remarks of minister of public health ...</td>\n",
       "    </tr>\n",
       "  </tbody>\n",
       "</table>\n",
       "</div>"
      ],
      "text/plain": [
       "                                           Headlines  \\\n",
       "0  National Archive needs cooperation to develop,...   \n",
       "1  Sancharaki inaugurates photo exhibition in Nat...   \n",
       "2  “Attention to National Archive means to protec...   \n",
       "3  “Arg Archive would only be run by MoIC,” Presi...   \n",
       "4  Health sector still facing challenges despite ...   \n",
       "\n",
       "                                        Descriptions Authors  \\\n",
       "0  KABUL: The National Archive of Afghanistan has...    None   \n",
       "1  KABUL: Fazel Sancharaki, the Deputy Minister o...    None   \n",
       "2  KABUL: Acting and Nominee Minister of Informat...    None   \n",
       "3  KABUL: President Mohammad Ashraf Ghani, during...    None   \n",
       "4  World Health Day is marked globally on 7 April...    None   \n",
       "\n",
       "       Published_Dates                                           Articles  \\\n",
       "0  2018-08-27 00:00:00  KABUL: The National Archive of Afghanistan has...   \n",
       "1  2018-08-14 00:00:00  KABUL: Fazel Sancharaki, the Deputy Minister o...   \n",
       "2  2018-08-01 00:00:00  KABUL: Acting and Nominee Minister of Informat...   \n",
       "3  2018-07-21 00:00:00  KABUL: President Mohammad Ashraf Ghani, during...   \n",
       "4  2019-04-07 00:00:00  World Health Day is marked globally on 7 April...   \n",
       "\n",
       "                                            Keywords  \\\n",
       "0  [visit, official, rahbeen, national, cooperati...   \n",
       "1  [old, deputy, culture, minister, displayed, na...   \n",
       "2  [problems, protect, information, minister, nat...   \n",
       "3  [arg, information, presidential, students, cul...   \n",
       "4  [sector, problems, cancer, afghanistan, incide...   \n",
       "\n",
       "                                           Summaries  \n",
       "0  KABUL: The National Archive of Afghanistan has...  \n",
       "1  KABUL: Fazel Sancharaki, the Deputy Minister o...  \n",
       "2  KABUL: Acting and Nominee Minister of Informat...  \n",
       "3  KABUL: President Mohammad Ashraf Ghani, during...  \n",
       "4  Based on remarks of minister of public health ...  "
      ]
     },
     "execution_count": 8,
     "metadata": {},
     "output_type": "execute_result"
    }
   ],
   "source": [
    "tbl = pd.DataFrame({'Headlines' : headlines,\n",
    "                    'Descriptions' : descriptions,\n",
    "                    'Authors' : authors,\n",
    "                    'Published_Dates' : dates, \n",
    "                    'Articles' : news,\n",
    "                    'Keywords' : keywords,\n",
    "                    'Summaries' : summaries,})\n",
    "#tbl = tbl.dropna()\n",
    "tbl.to_csv('The_Kabul_Times.csv', index=False)\n",
    "tbl.head()"
   ]
  },
  {
   "cell_type": "code",
   "execution_count": null,
   "metadata": {},
   "outputs": [],
   "source": []
  }
 ],
 "metadata": {
  "kernelspec": {
   "display_name": "Python 3",
   "language": "python",
   "name": "python3"
  },
  "language_info": {
   "codemirror_mode": {
    "name": "ipython",
    "version": 3
   },
   "file_extension": ".py",
   "mimetype": "text/x-python",
   "name": "python",
   "nbconvert_exporter": "python",
   "pygments_lexer": "ipython3",
   "version": "3.7.1"
  }
 },
 "nbformat": 4,
 "nbformat_minor": 2
}
