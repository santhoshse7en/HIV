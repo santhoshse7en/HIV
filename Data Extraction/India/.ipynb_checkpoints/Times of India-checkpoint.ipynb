{
 "cells": [
  {
   "cell_type": "markdown",
   "metadata": {},
   "source": [
    "## HIV News articles extraction from Times of India. Data Extraction of following parameters\n",
    "- Headline\n",
    "- Description\n",
    "- Author\n",
    "- Published Date\n",
    "- Category\n",
    "- Publication\n",
    "- News\n",
    "- URL\n",
    "- Keywords\n",
    "- Summary\n",
    "\n",
    "### Importing the necessary Libraries"
   ]
  },
  {
   "cell_type": "code",
   "execution_count": 1,
   "metadata": {},
   "outputs": [],
   "source": [
    "from selenium.webdriver.chrome.options import Options # enables options in web browser\n",
    "from selenium import webdriver # web-based automation tool for Python\n",
    "from newspaper import Article # Article scraping & curation\n",
    "from bs4 import BeautifulSoup # Python library for pulling data out of HTML and XML files\n",
    "from requests import get # standard for making HTTP requests in Python\n",
    "import pandas as pd # library written for data manipulation and analysis\n",
    "import sys, time #  System-specific parameters and functions\n",
    "from dateutil import parser # data format handling\n",
    "import string # string functions"
   ]
  },
  {
   "cell_type": "markdown",
   "metadata": {},
   "source": [
    "### Creating Empty lists for HIV News Articles parameters data to be extracted"
   ]
  },
  {
   "cell_type": "code",
   "execution_count": 2,
   "metadata": {},
   "outputs": [],
   "source": [
    "headlines, descriptions, dates, authors, news, keywords, summaries, urls, category, publication = [], [], [], [], [], [], [], [], [], []"
   ]
  },
  {
   "cell_type": "markdown",
   "metadata": {},
   "source": [
    "### Finding the total no.of.pages by total no.of articles from Pajhwok Afghan News ¶"
   ]
  },
  {
   "cell_type": "code",
   "execution_count": 3,
   "metadata": {},
   "outputs": [],
   "source": [
    "url = 'https://timesofindia.indiatimes.com/topic/Hiv/news'\n",
    "soup = BeautifulSoup(get(url).text, 'lxml')\n",
    "\n",
    "max_urls = ['https://timesofindia.indiatimes.com' + soup.select('.look ')[i]['href'] for i in range(len(soup.select('.look ')))]"
   ]
  },
  {
   "cell_type": "markdown",
   "metadata": {},
   "source": [
    "### Iterates max_pages value through while loop. Scraping the Articles urls and basic info"
   ]
  },
  {
   "cell_type": "code",
   "execution_count": 4,
   "metadata": {},
   "outputs": [
    {
     "name": "stdout",
     "output_type": "stream",
     "text": [
      "14 : 15\r"
     ]
    }
   ],
   "source": [
    "for index, url in enumerate(max_urls):\n",
    "    soup = BeautifulSoup(get(url).text, 'lxml')\n",
    "\n",
    "    # Extracts the Headlines\n",
    "    try:\n",
    "        headline = [soup.select('span.title')[i].text.strip() for i in range(len(soup.select('span.title')))]\n",
    "        headlines.extend(headline)\n",
    "    except:\n",
    "        headlines.extend(None)\n",
    "\n",
    "    # Extracts the published dates\n",
    "    try:\n",
    "        pub_date = [str(parser.parse(soup.select('span.meta')[0].text)).split()[0] for i in range(len(soup.select('span.meta')))]\n",
    "        dates.extend(pub_date)\n",
    "    except:\n",
    "        dates.extend(None)\n",
    "\n",
    "    # Extracts the urls\n",
    "    try:\n",
    "        source = ['https://timesofindia.indiatimes.com' + soup.select('.content')[i].a['href'] for i in range(len(soup.select('span.meta')))]\n",
    "        urls.extend(source)\n",
    "    except:\n",
    "        urls.extend(None)\n",
    "\n",
    "    sys.stdout.write('\\r' + str(index) + ' : ' + str(len(max_urls)) + '\\r')\n",
    "    sys.stdout.flush()"
   ]
  },
  {
   "cell_type": "markdown",
   "metadata": {},
   "source": [
    "### Iterates urls through for loop. Scraping the Articles with above parameters"
   ]
  },
  {
   "cell_type": "code",
   "execution_count": 5,
   "metadata": {},
   "outputs": [
    {
     "name": "stdout",
     "output_type": "stream",
     "text": [
      "Article `download()` failed with 404 Client Error: Not Found for url: https://timesofindia.indiatimes.com/articleshow/64603293.cms on URL https://timesofindia.indiatimes.com/articleshow/64603293.cms.cms\n",
      "Wall time: 14min 4sofindia.indiatimes.com/city/jaipur/lactating-mothers-test-hiv-ve-at-rajasthan-milk-banks/articleshow/62733649.cmscms65891851.cmscms66045640.cmsa/articleshow/66614928.cmsw/66615539.cms\n"
     ]
    }
   ],
   "source": [
    "%%time\n",
    "for index, url in enumerate(urls):\n",
    "    try:\n",
    "        # Parse the url to NewsPlease\n",
    "        soup = BeautifulSoup(get(url).text, 'lxml')\n",
    "        article = Article(url)\n",
    "        article.download()\n",
    "        article.parse()\n",
    "        article.nlp()\n",
    "        \n",
    "        # Extracts the Authors\n",
    "        try:\n",
    "            authors.append(article.authors[0])\n",
    "        except:\n",
    "            authors.append(None)\n",
    "            \n",
    "        # Extracts the Descriptions    \n",
    "        try:\n",
    "            descriptions.append(article.meta_description.strip())\n",
    "        except:\n",
    "            descriptions.append(None)\n",
    "            \n",
    "        # Extracts the news category\n",
    "        try:\n",
    "            category.append(article.meta_data['category'])\n",
    "        except:\n",
    "            category.append(None)\n",
    "            \n",
    "        # Extracts the news articles\n",
    "        try:\n",
    "            news_article = ''.join(i for i in ' '.join(soup.select_one('._3WlLe').text.split()) if i in string.printable)\n",
    "            news.append(news_article)\n",
    "        except:\n",
    "            news.append(None)\n",
    "            \n",
    "        # Extracts the news publication\n",
    "        try:\n",
    "            publication.append(article.meta_data['og']['site_name'])\n",
    "        except:\n",
    "            publication.append(None)\n",
    "\n",
    "        # Extracts Keywords and Summaries\n",
    "        try:\n",
    "            keywords.append(article.keywords)\n",
    "            summaries.append(' '.join(article.summary.split()))\n",
    "        except:\n",
    "            keywords.append(None)\n",
    "            summaries.append(None)\n",
    "                        \n",
    "    except:\n",
    "        descriptions.append(None)\n",
    "        category.append(None)\n",
    "        publication.append(None)\n",
    "        news.append(None)\n",
    "        keywords.append(None)\n",
    "        summaries.append(None)\n",
    "        authors.append(None)\n",
    "\n",
    "    sys.stdout.write('\\r' + str(index) + ' : ' + str(url) + '\\r')\n",
    "    sys.stdout.flush()"
   ]
  },
  {
   "cell_type": "markdown",
   "metadata": {},
   "source": [
    "### Checking Array Length of each list to create DataFrame"
   ]
  },
  {
   "cell_type": "code",
   "execution_count": 6,
   "metadata": {},
   "outputs": [
    {
     "name": "stdout",
     "output_type": "stream",
     "text": [
      "300 300 300 300 300 300 300 300 300 300\n"
     ]
    }
   ],
   "source": [
    "print(len(headlines), len(descriptions), len(authors), len(dates), len(category), len(publication), len(news), len(keywords), len(summaries), len(urls))"
   ]
  },
  {
   "cell_type": "markdown",
   "metadata": {},
   "source": [
    "### Creating a csv file after checking array length and droping the missing values from the dataset"
   ]
  },
  {
   "cell_type": "code",
   "execution_count": 7,
   "metadata": {},
   "outputs": [
    {
     "data": {
      "text/html": [
       "<div>\n",
       "<style scoped>\n",
       "    .dataframe tbody tr th:only-of-type {\n",
       "        vertical-align: middle;\n",
       "    }\n",
       "\n",
       "    .dataframe tbody tr th {\n",
       "        vertical-align: top;\n",
       "    }\n",
       "\n",
       "    .dataframe thead th {\n",
       "        text-align: right;\n",
       "    }\n",
       "</style>\n",
       "<table border=\"1\" class=\"dataframe\">\n",
       "  <thead>\n",
       "    <tr style=\"text-align: right;\">\n",
       "      <th></th>\n",
       "      <th>Headlines</th>\n",
       "      <th>Descriptions</th>\n",
       "      <th>Authors</th>\n",
       "      <th>Published_Dates</th>\n",
       "      <th>Publication</th>\n",
       "      <th>Articles</th>\n",
       "      <th>category</th>\n",
       "      <th>Keywords</th>\n",
       "      <th>Summaries</th>\n",
       "      <th>Source_URLs</th>\n",
       "    </tr>\n",
       "  </thead>\n",
       "  <tbody>\n",
       "    <tr>\n",
       "      <th>0</th>\n",
       "      <td>Cannes 2019: Priyanka Chopra dons an elegant w...</td>\n",
       "      <td>Priyanka Chopra made a stunning debut appearan...</td>\n",
       "      <td>None</td>\n",
       "      <td>2019-05-16</td>\n",
       "      <td>The Times of India</td>\n",
       "      <td>None</td>\n",
       "      <td>{}</td>\n",
       "      <td>[swag, priyanka, shirt, prithviraj, cannes, wh...</td>\n",
       "      <td>The printed shirt, cool glasses, and the smile...</td>\n",
       "      <td>https://timesofindia.indiatimes.com/entertainm...</td>\n",
       "    </tr>\n",
       "    <tr>\n",
       "      <th>1</th>\n",
       "      <td>Mumbai's civic hospital doctors operate on HIV...</td>\n",
       "      <td>MUMBAI: In a rare feat in a public hospital, a...</td>\n",
       "      <td>Tnn</td>\n",
       "      <td>2019-05-16</td>\n",
       "      <td>The Times of India</td>\n",
       "      <td>MUMBAI: In a rare feat in a public hospital, a...</td>\n",
       "      <td>{}</td>\n",
       "      <td>[operated, surgery, tb, lungs, hivtb, infectio...</td>\n",
       "      <td>MUMBAI: In a rare feat in a public hospital, a...</td>\n",
       "      <td>https://timesofindia.indiatimes.com/city/mumba...</td>\n",
       "    </tr>\n",
       "    <tr>\n",
       "      <th>2</th>\n",
       "      <td>New HIV infections reduce by 37% in Rajasthan</td>\n",
       "      <td>JAIPUR: Efforts to reduce new HIV infections i...</td>\n",
       "      <td>None</td>\n",
       "      <td>2019-05-16</td>\n",
       "      <td>The Times of India</td>\n",
       "      <td>JAIPUR: Efforts to reduce new HIV infections i...</td>\n",
       "      <td>{}</td>\n",
       "      <td>[rajasthan, state, track, total, 37, country, ...</td>\n",
       "      <td>JAIPUR: Efforts to reduce new HIV infections i...</td>\n",
       "      <td>https://timesofindia.indiatimes.com/city/jaipu...</td>\n",
       "    </tr>\n",
       "    <tr>\n",
       "      <th>3</th>\n",
       "      <td>Pakistan police arrest doctor after 90 infecte...</td>\n",
       "      <td>Pakistan News: At least 90 people, including 6...</td>\n",
       "      <td>Afp</td>\n",
       "      <td>2019-05-16</td>\n",
       "      <td>The Times of India</td>\n",
       "      <td>KARACHI: At least 90 people, including 65 chil...</td>\n",
       "      <td>{}</td>\n",
       "      <td>[arrest, track, virus, doctor, hiv, 90, update...</td>\n",
       "      <td>Representative imageMake sense of the 2019 Lok...</td>\n",
       "      <td>https://timesofindia.indiatimes.com/world/paki...</td>\n",
       "    </tr>\n",
       "    <tr>\n",
       "      <th>4</th>\n",
       "      <td>Head of embattled UNAIDS to leave post immedia...</td>\n",
       "      <td>Rest of World News: UNAIDS said Michel Sidibe ...</td>\n",
       "      <td>Ap</td>\n",
       "      <td>2019-05-16</td>\n",
       "      <td>The Times of India</td>\n",
       "      <td>GENEVA: The UN AIDS agency says its executive ...</td>\n",
       "      <td>{}</td>\n",
       "      <td>[sidibe, track, leave, immediately, head, post...</td>\n",
       "      <td>Follow us to track latest news, live updates, ...</td>\n",
       "      <td>https://timesofindia.indiatimes.com/world/rest...</td>\n",
       "    </tr>\n",
       "  </tbody>\n",
       "</table>\n",
       "</div>"
      ],
      "text/plain": [
       "                                           Headlines  \\\n",
       "0  Cannes 2019: Priyanka Chopra dons an elegant w...   \n",
       "1  Mumbai's civic hospital doctors operate on HIV...   \n",
       "2      New HIV infections reduce by 37% in Rajasthan   \n",
       "3  Pakistan police arrest doctor after 90 infecte...   \n",
       "4  Head of embattled UNAIDS to leave post immedia...   \n",
       "\n",
       "                                        Descriptions Authors Published_Dates  \\\n",
       "0  Priyanka Chopra made a stunning debut appearan...    None      2019-05-16   \n",
       "1  MUMBAI: In a rare feat in a public hospital, a...     Tnn      2019-05-16   \n",
       "2  JAIPUR: Efforts to reduce new HIV infections i...    None      2019-05-16   \n",
       "3  Pakistan News: At least 90 people, including 6...     Afp      2019-05-16   \n",
       "4  Rest of World News: UNAIDS said Michel Sidibe ...      Ap      2019-05-16   \n",
       "\n",
       "          Publication                                           Articles  \\\n",
       "0  The Times of India                                               None   \n",
       "1  The Times of India  MUMBAI: In a rare feat in a public hospital, a...   \n",
       "2  The Times of India  JAIPUR: Efforts to reduce new HIV infections i...   \n",
       "3  The Times of India  KARACHI: At least 90 people, including 65 chil...   \n",
       "4  The Times of India  GENEVA: The UN AIDS agency says its executive ...   \n",
       "\n",
       "  category                                           Keywords  \\\n",
       "0       {}  [swag, priyanka, shirt, prithviraj, cannes, wh...   \n",
       "1       {}  [operated, surgery, tb, lungs, hivtb, infectio...   \n",
       "2       {}  [rajasthan, state, track, total, 37, country, ...   \n",
       "3       {}  [arrest, track, virus, doctor, hiv, 90, update...   \n",
       "4       {}  [sidibe, track, leave, immediately, head, post...   \n",
       "\n",
       "                                           Summaries  \\\n",
       "0  The printed shirt, cool glasses, and the smile...   \n",
       "1  MUMBAI: In a rare feat in a public hospital, a...   \n",
       "2  JAIPUR: Efforts to reduce new HIV infections i...   \n",
       "3  Representative imageMake sense of the 2019 Lok...   \n",
       "4  Follow us to track latest news, live updates, ...   \n",
       "\n",
       "                                         Source_URLs  \n",
       "0  https://timesofindia.indiatimes.com/entertainm...  \n",
       "1  https://timesofindia.indiatimes.com/city/mumba...  \n",
       "2  https://timesofindia.indiatimes.com/city/jaipu...  \n",
       "3  https://timesofindia.indiatimes.com/world/paki...  \n",
       "4  https://timesofindia.indiatimes.com/world/rest...  "
      ]
     },
     "execution_count": 7,
     "metadata": {},
     "output_type": "execute_result"
    }
   ],
   "source": [
    "if len(headlines) == len(descriptions) == len(authors) == len(dates) == len(news) == len(publication) == len(keywords) == len(summaries) == len(urls) == len(category):\n",
    "    tbl = pd.DataFrame({'Headlines' : headlines,\n",
    "                        'Descriptions' : descriptions,\n",
    "                        'Authors' : authors,\n",
    "                        'Published_Dates' : dates,\n",
    "                        'Publication' : publication,\n",
    "                        'Articles' : news,\n",
    "                        'category' : category,\n",
    "                        'Keywords' : keywords,\n",
    "                        'Summaries' : summaries,\n",
    "                        'Source_URLs' : urls})\n",
    "    tbl.dropna()\n",
    "    path = 'D:\\\\#Backups\\\\Desktop\\\\!Code!\\\\CDRI\\\\HIV\\\\Data Extraction\\\\#Datasets\\\\'\n",
    "    tbl.to_csv(path+'Times_of_India.csv', index=False)\n",
    "else:\n",
    "    print('Array lenght does not match!')\n",
    "\n",
    "tbl.head()"
   ]
  },
  {
   "cell_type": "code",
   "execution_count": 8,
   "metadata": {},
   "outputs": [
    {
     "data": {
      "text/plain": [
       "(300, 10)"
      ]
     },
     "execution_count": 8,
     "metadata": {},
     "output_type": "execute_result"
    }
   ],
   "source": [
    "tbl.shape"
   ]
  }
 ],
 "metadata": {
  "kernelspec": {
   "display_name": "Python 3",
   "language": "python",
   "name": "python3"
  },
  "language_info": {
   "codemirror_mode": {
    "name": "ipython",
    "version": 3
   },
   "file_extension": ".py",
   "mimetype": "text/x-python",
   "name": "python",
   "nbconvert_exporter": "python",
   "pygments_lexer": "ipython3",
   "version": "3.7.3"
  }
 },
 "nbformat": 4,
 "nbformat_minor": 2
}
