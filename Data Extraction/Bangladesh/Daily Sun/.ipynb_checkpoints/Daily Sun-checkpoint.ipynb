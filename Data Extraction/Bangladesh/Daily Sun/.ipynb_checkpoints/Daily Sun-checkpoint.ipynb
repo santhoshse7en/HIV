{
 "cells": [
  {
   "cell_type": "markdown",
   "metadata": {},
   "source": [
    "## HIV News articles extraction from Daily Sun. Data Extraction of following parameters\n",
    "- Headline\n",
    "- Description\n",
    "- Author\n",
    "- Published_Date\n",
    "- News\n",
    "- URL\n",
    "- Keywords\n",
    "- Summary\n",
    "\n",
    "### Importing the necessary Libraries"
   ]
  },
  {
   "cell_type": "code",
   "execution_count": 1,
   "metadata": {},
   "outputs": [],
   "source": [
    "from selenium.webdriver.chrome.options import Options # enables options in web browser\n",
    "from selenium import webdriver # web-based automation tool for Python\n",
    "from newspaper import Article # Article scraping & curation\n",
    "from bs4 import BeautifulSoup # Python library for pulling data out of HTML and XML files\n",
    "from requests import get # standard for making HTTP requests in Python\n",
    "import pandas as pd # library written for data manipulation and analysis\n",
    "import sys, time #  System-specific parameters and functions"
   ]
  },
  {
   "cell_type": "markdown",
   "metadata": {},
   "source": [
    "### Creating Empty lists for HIV News Articles parameters data to be extracted"
   ]
  },
  {
   "cell_type": "code",
   "execution_count": 2,
   "metadata": {},
   "outputs": [],
   "source": [
    "headlines, descriptions, dates, authors, news, keywords, summaries, urls = [], [], [], [], [], [], [], []"
   ]
  },
  {
   "cell_type": "markdown",
   "metadata": {},
   "source": [
    "### Finding the total no.of.pages by total no.of articles from google search results¶"
   ]
  },
  {
   "cell_type": "code",
   "execution_count": 3,
   "metadata": {},
   "outputs": [],
   "source": [
    "keyword = 'HIV site:www.dailysun.co.za'\n",
    "\n",
    "url = 'https://www.google.com/search?q=' + '+'.join(keyword.split())\n",
    "\n",
    "soup = BeautifulSoup(get(url).text, 'lxml')\n",
    "try:\n",
    "    # Extracts the digits if it the resulted number without comma ','. eg: About 680 results (0.23 seconds)\n",
    "    max_pages = round([int(s) for s in soup.select_one('div#resultStats').text.split() if s.isdigit()][0]/10)\n",
    "    max_pages = max_pages + 1\n",
    "except:\n",
    "    # Extracts the digits if it the resulted number without comma ','. eg: About 1,080 results (0.23 seconds)\n",
    "    max_pages = round(int(''.join(i for i in soup.select_one('div#resultStats').text if i.isdigit()))/10)\n",
    "    max_pages = max_pages + 1"
   ]
  },
  {
   "cell_type": "markdown",
   "metadata": {},
   "source": [
    "### Iterates max_pages value through while loop. Scraping the Articles urls"
   ]
  },
  {
   "cell_type": "code",
   "execution_count": 4,
   "metadata": {},
   "outputs": [
    {
     "name": "stdout",
     "output_type": "stream",
     "text": [
      "24 : 79\r"
     ]
    }
   ],
   "source": [
    "options = Options()\n",
    "options.headless = True\n",
    "browser = webdriver.Chrome(options=options)\n",
    "browser.get(url)\n",
    "\n",
    "index = 0\n",
    "\n",
    "while True:\n",
    "    try:\n",
    "        index +=1\n",
    "        page = browser.page_source\n",
    "        soup = BeautifulSoup(page, 'lxml')\n",
    "        linky = [soup.select('.r')[i].a['href'] for i in range(len(soup.select('.r')))]\n",
    "        urls.extend(linky)\n",
    "        if index == max_pages:\n",
    "            break\n",
    "        browser.find_element_by_xpath('//*[@id=\"pnnext\"]/span[2]').click()\n",
    "        time.sleep(2)\n",
    "        sys.stdout.write('\\r' + str(index) + ' : ' + str(max_pages) + '\\r')\n",
    "        sys.stdout.flush()\n",
    "    except:\n",
    "        pass\n",
    "    \n",
    "browser.quit()"
   ]
  },
  {
   "cell_type": "markdown",
   "metadata": {},
   "source": [
    "### To remove duplicates urls entries in the list by executing below line"
   ]
  },
  {
   "cell_type": "code",
   "execution_count": 5,
   "metadata": {},
   "outputs": [
    {
     "name": "stdout",
     "output_type": "stream",
     "text": [
      "239 <class 'list'>\n"
     ]
    }
   ],
   "source": [
    "urls = list(dict.fromkeys(urls))\n",
    "print(len(urls), type(urls))"
   ]
  },
  {
   "cell_type": "markdown",
   "metadata": {},
   "source": [
    "### Iterates urls through for loop. Scraping the Articles with above parameters"
   ]
  },
  {
   "cell_type": "code",
   "execution_count": 6,
   "metadata": {},
   "outputs": [
    {
     "name": "stdout",
     "output_type": "stream",
     "text": [
      "Wall time: 14min 18silysun.co.za/News/International/somizi-cancels-mampintsha-gig-20190304es-offence-20160313mobile=trueue8cb-8387-4d97-bc9a-712b49d58220&mobile=true\n"
     ]
    }
   ],
   "source": [
    "%%time\n",
    "for index, url in enumerate(urls):\n",
    "    try:\n",
    "        # Parse the url to NewsPlease \n",
    "        soup = BeautifulSoup(get(url).text, 'lxml')\n",
    "        article = Article(url)\n",
    "        article.download()\n",
    "        article.parse()\n",
    "        article.nlp()\n",
    "        \n",
    "        # Extracts the Headlines\n",
    "        try:\n",
    "            try:\n",
    "                headlines.append(soup.select_one('meta[property=\"og:title\"]')['content'].strip())\n",
    "            except:\n",
    "                headlines.append(article.title.strip())\n",
    "        except:\n",
    "            headlines.append(None)\n",
    "            \n",
    "        # Extracts the Descriptions    \n",
    "        try:\n",
    "            try:\n",
    "                descriptions.append(soup.select_one('meta[name=\"description\"]')['content'].strip().replace('\\n', ' '))\n",
    "            except:\n",
    "                descriptions.append(article.meta_description.strip())\n",
    "        except:\n",
    "            descriptions.append(None)\n",
    "            \n",
    "        # Extracts the Authors\n",
    "        try:\n",
    "            try:\n",
    "                authors.append(soup.select_one('meta[name=\"cXenseParse:tss-byline\"]')['content'].strip())\n",
    "            except:\n",
    "                authors.append(article.authors.strip())\n",
    "        except:\n",
    "            authors.append(None)\n",
    "        \n",
    "        # Extracts the published dates\n",
    "        try:\n",
    "            try:\n",
    "                dates.append(soup.select_one('meta[name=\"cXenseParse:recs:publishtime\"]')['content'].strip())\n",
    "            except:\n",
    "                dates.append(str(article.publish_date))\n",
    "        except:\n",
    "            dates.append(None)\n",
    "            \n",
    "        # Extracts the news articles\n",
    "        try:\n",
    "            try:\n",
    "                news.append(soup.select_one('div.content').text.replace('\\n', '').strip())\n",
    "            except:\n",
    "                news.append(article.text.strip())\n",
    "        except:\n",
    "            news.append(None)\n",
    "            \n",
    "        # Extracts Keywords and Summaries    \n",
    "        try:\n",
    "            keywords.append(article.keywords)\n",
    "            summaries.append(article.summary)\n",
    "        except:\n",
    "            keywords.append(None)\n",
    "            summaries.append(None)\n",
    "            \n",
    "    except:\n",
    "        headlines.append(None)\n",
    "        descriptions.append(None)\n",
    "        authors.append(None)\n",
    "        dates.append(None)\n",
    "        news.append(None)\n",
    "        keywords.append(None)\n",
    "        summaries.append(None)\n",
    "\n",
    "    sys.stdout.write('\\r' + str(index) + ' : ' + str(url) + '\\r')\n",
    "    sys.stdout.flush()"
   ]
  },
  {
   "cell_type": "markdown",
   "metadata": {},
   "source": [
    "### Checking Array Length of each list to create DataFrame"
   ]
  },
  {
   "cell_type": "code",
   "execution_count": 7,
   "metadata": {},
   "outputs": [
    {
     "name": "stdout",
     "output_type": "stream",
     "text": [
      "239 239 239 239 239 239 239 239\n"
     ]
    }
   ],
   "source": [
    "print(len(headlines), len(descriptions), len(authors), len(dates), len(news), len(keywords), len(summaries), len(urls))"
   ]
  },
  {
   "cell_type": "markdown",
   "metadata": {},
   "source": [
    "### Creating a csv file after checking array length and droping the missing values from the dataset"
   ]
  },
  {
   "cell_type": "code",
   "execution_count": 8,
   "metadata": {},
   "outputs": [
    {
     "data": {
      "text/html": [
       "<div>\n",
       "<style scoped>\n",
       "    .dataframe tbody tr th:only-of-type {\n",
       "        vertical-align: middle;\n",
       "    }\n",
       "\n",
       "    .dataframe tbody tr th {\n",
       "        vertical-align: top;\n",
       "    }\n",
       "\n",
       "    .dataframe thead th {\n",
       "        text-align: right;\n",
       "    }\n",
       "</style>\n",
       "<table border=\"1\" class=\"dataframe\">\n",
       "  <thead>\n",
       "    <tr style=\"text-align: right;\">\n",
       "      <th></th>\n",
       "      <th>Headlines</th>\n",
       "      <th>Descriptions</th>\n",
       "      <th>Authors</th>\n",
       "      <th>Published_Dates</th>\n",
       "      <th>Articles</th>\n",
       "      <th>Keywords</th>\n",
       "      <th>Summaries</th>\n",
       "    </tr>\n",
       "  </thead>\n",
       "  <tbody>\n",
       "    <tr>\n",
       "      <th>0</th>\n",
       "      <td>MAKER OF POTENTIAL HIV CURE SPEAKS UP!</td>\n",
       "      <td>News of a \"potential HIV cure\" had many on soc...</td>\n",
       "      <td></td>\n",
       "      <td>2018-11-08T19:00:03.000Z</td>\n",
       "      <td>News of a \"potential HIV cure\" had many on soc...</td>\n",
       "      <td>[potential, need, trial, trials, results, medi...</td>\n",
       "      <td>News of a \"potential HIV cure\" had many on soc...</td>\n",
       "    </tr>\n",
       "    <tr>\n",
       "      <th>1</th>\n",
       "      <td>SECOND PERSON ‘CURED’ OF HIV</td>\n",
       "      <td>A LONDON man appears to be free of HIV after a...</td>\n",
       "      <td>Health24</td>\n",
       "      <td>2019-03-05T13:05:29.000Z</td>\n",
       "      <td>A LONDON man appears to be free of HIV after a...</td>\n",
       "      <td>[stem, timothy, cured, transplant, brown, hiv,...</td>\n",
       "      <td>A LONDON man appears to be free of HIV after a...</td>\n",
       "    </tr>\n",
       "    <tr>\n",
       "      <th>2</th>\n",
       "      <td>AIDS CURE A POSSIBILITY!</td>\n",
       "      <td>FORMER president Jacob Zuma’s boasting, in a t...</td>\n",
       "      <td></td>\n",
       "      <td>2019-02-03T06:00:22.000Z</td>\n",
       "      <td>FORMER president Jacob Zuma’s boasting, in a t...</td>\n",
       "      <td>[aids, programme, possibility, president, mill...</td>\n",
       "      <td>First, Zuma wrote that more than3,9 million pe...</td>\n",
       "    </tr>\n",
       "    <tr>\n",
       "      <th>3</th>\n",
       "      <td>LOVE'S STRONGER THAN HIV</td>\n",
       "      <td>Dear MizzB.</td>\n",
       "      <td></td>\n",
       "      <td>2019-02-17T05:30:02.000Z</td>\n",
       "      <td>Dear MizzB I AM a 24-year-old HIV-positive wom...</td>\n",
       "      <td>[hivpositive, loves, partner, having, hiv, sex...</td>\n",
       "      <td>Dear MizzBI AM a 24-year-old HIV-positive woma...</td>\n",
       "    </tr>\n",
       "    <tr>\n",
       "      <th>4</th>\n",
       "      <td>MY SON GOT HIV FROM RAPIST DAD!</td>\n",
       "      <td>A MUM is still trying to come to terms with th...</td>\n",
       "      <td>Lethabo Khambule</td>\n",
       "      <td>2018-11-13T08:00:06.000Z</td>\n",
       "      <td>A MUM is still trying to come to terms with th...</td>\n",
       "      <td>[father, closed, son, rapist, told, hiv, worke...</td>\n",
       "      <td>A MUM is still trying to come to terms with th...</td>\n",
       "    </tr>\n",
       "  </tbody>\n",
       "</table>\n",
       "</div>"
      ],
      "text/plain": [
       "                                Headlines  \\\n",
       "0  MAKER OF POTENTIAL HIV CURE SPEAKS UP!   \n",
       "1            SECOND PERSON ‘CURED’ OF HIV   \n",
       "2                AIDS CURE A POSSIBILITY!   \n",
       "3                LOVE'S STRONGER THAN HIV   \n",
       "4         MY SON GOT HIV FROM RAPIST DAD!   \n",
       "\n",
       "                                        Descriptions           Authors  \\\n",
       "0  News of a \"potential HIV cure\" had many on soc...                     \n",
       "1  A LONDON man appears to be free of HIV after a...          Health24   \n",
       "2  FORMER president Jacob Zuma’s boasting, in a t...                     \n",
       "3                                        Dear MizzB.                     \n",
       "4  A MUM is still trying to come to terms with th...  Lethabo Khambule   \n",
       "\n",
       "            Published_Dates  \\\n",
       "0  2018-11-08T19:00:03.000Z   \n",
       "1  2019-03-05T13:05:29.000Z   \n",
       "2  2019-02-03T06:00:22.000Z   \n",
       "3  2019-02-17T05:30:02.000Z   \n",
       "4  2018-11-13T08:00:06.000Z   \n",
       "\n",
       "                                            Articles  \\\n",
       "0  News of a \"potential HIV cure\" had many on soc...   \n",
       "1  A LONDON man appears to be free of HIV after a...   \n",
       "2  FORMER president Jacob Zuma’s boasting, in a t...   \n",
       "3  Dear MizzB I AM a 24-year-old HIV-positive wom...   \n",
       "4  A MUM is still trying to come to terms with th...   \n",
       "\n",
       "                                            Keywords  \\\n",
       "0  [potential, need, trial, trials, results, medi...   \n",
       "1  [stem, timothy, cured, transplant, brown, hiv,...   \n",
       "2  [aids, programme, possibility, president, mill...   \n",
       "3  [hivpositive, loves, partner, having, hiv, sex...   \n",
       "4  [father, closed, son, rapist, told, hiv, worke...   \n",
       "\n",
       "                                           Summaries  \n",
       "0  News of a \"potential HIV cure\" had many on soc...  \n",
       "1  A LONDON man appears to be free of HIV after a...  \n",
       "2  First, Zuma wrote that more than3,9 million pe...  \n",
       "3  Dear MizzBI AM a 24-year-old HIV-positive woma...  \n",
       "4  A MUM is still trying to come to terms with th...  "
      ]
     },
     "execution_count": 8,
     "metadata": {},
     "output_type": "execute_result"
    }
   ],
   "source": [
    "tbl = pd.DataFrame({'Headlines' : headlines,\n",
    "                    'Descriptions' : descriptions,\n",
    "                    'Authors' : authors,\n",
    "                    'Published_Dates' : dates, \n",
    "                    'Articles' : news,\n",
    "                    'Keywords' : keywords,\n",
    "                    'Summaries' : summaries,})\n",
    "#tbl = tbl.dropna()\n",
    "tbl.to_csv('Daily_Sun.csv', index=False)\n",
    "tbl.head()"
   ]
  }
 ],
 "metadata": {
  "kernelspec": {
   "display_name": "Python 3",
   "language": "python",
   "name": "python3"
  },
  "language_info": {
   "codemirror_mode": {
    "name": "ipython",
    "version": 3
   },
   "file_extension": ".py",
   "mimetype": "text/x-python",
   "name": "python",
   "nbconvert_exporter": "python",
   "pygments_lexer": "ipython3",
   "version": "3.7.1"
  }
 },
 "nbformat": 4,
 "nbformat_minor": 2
}
