{
 "cells": [
  {
   "cell_type": "markdown",
   "metadata": {},
   "source": [
    "### Introduction\n",
    "In this kernal, I will use TF-IDF to vectorize the articles data and cluster them. Then, I will make paper recommendation."
   ]
  },
  {
   "cell_type": "markdown",
   "metadata": {},
   "source": [
    "**1. Input data**"
   ]
  },
  {
   "cell_type": "code",
   "execution_count": 1,
   "metadata": {},
   "outputs": [],
   "source": [
    "import numpy as np\n",
    "import pandas as pd \n",
    "import matplotlib.pyplot as plt\n",
    "%matplotlib inline\n",
    "from sklearn.cluster import MiniBatchKMeans\n",
    "from sklearn.feature_extraction.text import TfidfVectorizer"
   ]
  },
  {
   "cell_type": "code",
   "execution_count": 2,
   "metadata": {},
   "outputs": [],
   "source": [
    "text = pd.read_csv('Final_HIV_without_Nan.csv')"
   ]
  },
  {
   "cell_type": "code",
   "execution_count": 3,
   "metadata": {},
   "outputs": [
    {
     "data": {
      "text/html": [
       "<div>\n",
       "<style scoped>\n",
       "    .dataframe tbody tr th:only-of-type {\n",
       "        vertical-align: middle;\n",
       "    }\n",
       "\n",
       "    .dataframe tbody tr th {\n",
       "        vertical-align: top;\n",
       "    }\n",
       "\n",
       "    .dataframe thead th {\n",
       "        text-align: right;\n",
       "    }\n",
       "</style>\n",
       "<table border=\"1\" class=\"dataframe\">\n",
       "  <thead>\n",
       "    <tr style=\"text-align: right;\">\n",
       "      <th></th>\n",
       "      <th>Headlines</th>\n",
       "      <th>Articles</th>\n",
       "    </tr>\n",
       "  </thead>\n",
       "  <tbody>\n",
       "    <tr>\n",
       "      <th>0</th>\n",
       "      <td>Drug â€˜can greatly reduce risk of HIV infecti...</td>\n",
       "      <td>A drug used to treat HIV-positive patients may...</td>\n",
       "    </tr>\n",
       "    <tr>\n",
       "      <th>1</th>\n",
       "      <td>Afghanistan recorded 1367 HIV/AIDS positive ca...</td>\n",
       "      <td>At least 1,367 positive cases of Human immunod...</td>\n",
       "    </tr>\n",
       "    <tr>\n",
       "      <th>2</th>\n",
       "      <td>Afghanistan sees 38 percent increase in HIV/AI...</td>\n",
       "      <td>Officials in the ministry of public health of ...</td>\n",
       "    </tr>\n",
       "    <tr>\n",
       "      <th>3</th>\n",
       "      <td>Over 1,200 people live with HIV in Afghanistan...</td>\n",
       "      <td>Today marks World AIDS Day, a time for the glo...</td>\n",
       "    </tr>\n",
       "    <tr>\n",
       "      <th>4</th>\n",
       "      <td>Aishwarya Rai Bachchan named UN HIV/AIDS envoy</td>\n",
       "      <td>The United Nations Monday announced the additi...</td>\n",
       "    </tr>\n",
       "  </tbody>\n",
       "</table>\n",
       "</div>"
      ],
      "text/plain": [
       "                                           Headlines  \\\n",
       "0  Drug â€˜can greatly reduce risk of HIV infecti...   \n",
       "1  Afghanistan recorded 1367 HIV/AIDS positive ca...   \n",
       "2  Afghanistan sees 38 percent increase in HIV/AI...   \n",
       "3  Over 1,200 people live with HIV in Afghanistan...   \n",
       "4     Aishwarya Rai Bachchan named UN HIV/AIDS envoy   \n",
       "\n",
       "                                            Articles  \n",
       "0  A drug used to treat HIV-positive patients may...  \n",
       "1  At least 1,367 positive cases of Human immunod...  \n",
       "2  Officials in the ministry of public health of ...  \n",
       "3  Today marks World AIDS Day, a time for the glo...  \n",
       "4  The United Nations Monday announced the additi...  "
      ]
     },
     "execution_count": 3,
     "metadata": {},
     "output_type": "execute_result"
    }
   ],
   "source": [
    "text = text.drop(['Descriptions', 'Authors', 'Published_Dates', 'Keywords', 'Summaries', 'Publication', 'category', 'Source_URLs'], axis=1).dropna().reset_index(drop=True)\n",
    "text.head()"
   ]
  },
  {
   "cell_type": "markdown",
   "metadata": {},
   "source": [
    "**2. Using TF-IDF vectorize the articles**\n",
    "\n",
    "**Introduction** to TF-IDF"
   ]
  },
  {
   "cell_type": "code",
   "execution_count": 4,
   "metadata": {},
   "outputs": [
    {
     "data": {
      "text/plain": [
       "0    A drug used to treat HIV-positive patients may...\n",
       "1    At least 1,367 positive cases of Human immunod...\n",
       "2    Officials in the ministry of public health of ...\n",
       "3    Today marks World AIDS Day, a time for the glo...\n",
       "4    The United Nations Monday announced the additi...\n",
       "Name: Articles, dtype: object"
      ]
     },
     "execution_count": 4,
     "metadata": {},
     "output_type": "execute_result"
    }
   ],
   "source": [
    "text_content = text['Articles']\n",
    "vector = TfidfVectorizer(stop_words = 'english')\n",
    "tfidf = vector.fit_transform(text_content)\n",
    "text_content.head()"
   ]
  },
  {
   "cell_type": "markdown",
   "metadata": {},
   "source": [
    "**3. Using elbow method to decide cluster number**\n",
    "\n",
    "Introduction to **elbow method**"
   ]
  },
  {
   "cell_type": "code",
   "execution_count": 5,
   "metadata": {},
   "outputs": [
    {
     "data": {
      "image/png": "[encoded data removed]",
      "text/plain": [
       "<Figure size 432x288 with 1 Axes>"
      ]
     },
     "metadata": {
      "needs_background": "light"
     },
     "output_type": "display_data"
    }
   ],
   "source": [
    "K = range(1,15)\n",
    "SSE = []\n",
    "for k in K:\n",
    "    kmeans = MiniBatchKMeans(n_clusters = k,batch_size = 300)\n",
    "    kmeans.fit(tfidf)\n",
    "    SSE.append(kmeans.inertia_)\n",
    "\n",
    "plt.plot(K,SSE,'bx-')\n",
    "plt.title('Elbow Method')\n",
    "plt.xlabel('cluster numbers')\n",
    "plt.show()"
   ]
  },
  {
   "cell_type": "markdown",
   "metadata": {},
   "source": [
    "**5. Using MiniBatchKMean to cluster**\n",
    "\n",
    "**Comparison of the K-Means and MiniBatchKMeans clustering algorithms**"
   ]
  },
  {
   "cell_type": "code",
   "execution_count": 6,
   "metadata": {},
   "outputs": [
    {
     "name": "stdout",
     "output_type": "stream",
     "text": [
      "cluster0:\n",
      "['vaccine', 'south', 'hiv', 'tangerang', 'africa', 'study', 'gene', 'commission', 'virus', 'people', 'aids', 'municipality', 'new', 'years', 'million']\n",
      "cluster1:\n",
      "['hiv', 'aids', 'said', 'news', 'people', 'children', 'india', 'data', 'health', 'latest', 'updates', 'track', 'live', 'cases', 'results']\n",
      "cluster2:\n",
      "['blood', 'news', 'woman', 'hospital', 'updates', 'india', 'track', 'latest', 'live', 'data', 'results', 'said', 'government', 'hiv', 'police']\n",
      "cluster3:\n",
      "['hiv', 'aids', 'nam', 'people', 'health', 'cent', 'said', 'prevention', 'viet', 'treatment', 'viá', 'patients', '90', 'insurance', 'arv']\n"
     ]
    }
   ],
   "source": [
    "k = 4\n",
    "kmeans = MiniBatchKMeans(n_clusters = k)\n",
    "kmeans.fit(tfidf)\n",
    "centers = kmeans.cluster_centers_.argsort()[:,::-1]\n",
    "terms = vector.get_feature_names()\n",
    "\n",
    "for i in range(0,k):\n",
    "    word_list=[]\n",
    "    print(\"cluster%d:\"% i)\n",
    "    for j in centers[i,:15]:\n",
    "        word_list.append(terms[j])\n",
    "    print(word_list) "
   ]
  },
  {
   "cell_type": "markdown",
   "metadata": {},
   "source": [
    "**6. Article Recommendation**\n",
    "\n",
    "Since we had vectorize the articles by TF-IDF, we only need to compare articles by comparing their vectors. Bigger inner product of two vectors means they shares more similar information."
   ]
  },
  {
   "cell_type": "code",
   "execution_count": 7,
   "metadata": {},
   "outputs": [
    {
     "name": "stdout",
     "output_type": "stream",
     "text": [
      "Drug â€˜can greatly reduce risk of HIV infectionâ€™\n",
      "\n",
      "similiar papers:\n",
      "Search for HIV vaccine resumes with test in South Africa\n",
      "Viet Nam faces uphill battle against HIV\n",
      "Man to man HIV interventions make headway\n",
      "Rights group, worried about HIV, urges Philippines action\n",
      "Your letters: Pope: There are bigger issues than HIV\n"
     ]
    }
   ],
   "source": [
    "similarity = np.dot(tfidf[0],np.transpose(tfidf))\n",
    "x = np.array(similarity.toarray()[0])\n",
    "print(text['Headlines'][0])\n",
    "print('\\nsimiliar papers:')\n",
    "print('\\n'.join(text['Headlines'].loc[np.argsort(x)[-7:-2]]))"
   ]
  },
  {
   "cell_type": "markdown",
   "metadata": {},
   "source": [
    "**7. Topics modeling**\n",
    "\n",
    "Here I use NMF instead of LDA because LDA's calculation is time-consuming.\n",
    "\n",
    "The major topics consist of politics, society, finance and internetional affairs, which is quite similiar to our cluster result."
   ]
  },
  {
   "cell_type": "code",
   "execution_count": 8,
   "metadata": {},
   "outputs": [
    {
     "name": "stdout",
     "output_type": "stream",
     "text": [
      "Topic0:\n",
      "['women', 'health', 'number', 'positive', 'sex', 'virus', 'indonesia', 'jakarta', 'infected', 'percent', 'children', 'cases', 'people', 'said', 'aids']\n",
      "Topic1:\n",
      "['elections', 'lok', 'sabha', 'toi', 'said', 'hospital', 'woman', 'results', 'data', 'live', 'latest', 'track', 'updates', 'blood', 'india']\n",
      "Topic2:\n",
      "['said', 'ng', 'nam', 'hcm', 'city', 'aids', 'people', 'arv', 'treatment', 'patients', 'cent', 'viá', 'health', '90', 'insurance']\n",
      "Topic3:\n",
      "['000', 'children', 'programme', 'international', 'vns', 'living', 'said', 'people', 'noi', 'project', 'ha', 'prevention', 'nam', 'viet', 'aids']\n"
     ]
    }
   ],
   "source": [
    "from sklearn.decomposition import NMF\n",
    "\n",
    "nmf  = NMF(n_components = 4)\n",
    "nmf.fit(tfidf)\n",
    "for i in range(0,k):\n",
    "    word_list=[]\n",
    "    print(\"Topic%d:\"% i)\n",
    "    for j in nmf.components_.argsort()[i,-16:-1]:\n",
    "        word_list.append(terms[j])\n",
    "    print(word_list)"
   ]
  },
  {
   "cell_type": "code",
   "execution_count": null,
   "metadata": {},
   "outputs": [],
   "source": []
  }
 ],
 "metadata": {
  "kernelspec": {
   "display_name": "Python 3",
   "language": "python",
   "name": "python3"
  },
  "language_info": {
   "codemirror_mode": {
    "name": "ipython",
    "version": 3
   },
   "file_extension": ".py",
   "mimetype": "text/x-python",
   "name": "python",
   "nbconvert_exporter": "python",
   "pygments_lexer": "ipython3",
   "version": "3.7.3"
  }
 },
 "nbformat": 4,
 "nbformat_minor": 2
}
